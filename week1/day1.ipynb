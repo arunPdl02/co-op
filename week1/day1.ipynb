{
 "cells": [
  {
   "cell_type": "code",
   "execution_count": null,
   "id": "aed5bcb4-79ad-41ee-bd5b-0893c2d085f8",
   "metadata": {},
   "outputs": [],
   "source": [
    "import pandas as pd\n",
    "import numpy as np\n",
    "import matplotlib.pyplot as plt\n",
    "import seaborn as sns\n",
    "\n",
    "print(\"Everything is installed and working!\")\n"
   ]
  },
  {
   "cell_type": "code",
   "execution_count": null,
   "id": "316aafdd-adf4-484a-b146-4cc730b9f7b5",
   "metadata": {},
   "outputs": [],
   "source": [
    "### Python lists"
   ]
  },
  {
   "cell_type": "code",
   "execution_count": null,
   "id": "13ac8521-0411-40a1-bfe9-ee81aa1ba62f",
   "metadata": {},
   "outputs": [],
   "source": [
    "fruits = ['apple', 'banana', 'cherry']\n",
    "print(fruits[0])\n",
    "fruits.append('date')\n",
    "print(len(fruits))"
   ]
  },
  {
   "cell_type": "code",
   "execution_count": null,
   "id": "9781ff6f-413b-45f1-8b5e-cab5ed310136",
   "metadata": {},
   "outputs": [],
   "source": [
    "for fruit in fruits:\n",
    "    print(fruit)"
   ]
  },
  {
   "cell_type": "code",
   "execution_count": null,
   "id": "7ecc8562-574c-4b05-ae76-ac20c9bb55fd",
   "metadata": {},
   "outputs": [],
   "source": [
    "i = 0\n",
    "while i < len(fruits):\n",
    "    print(fruits[i])\n",
    "    i += 1"
   ]
  },
  {
   "cell_type": "code",
   "execution_count": null,
   "id": "4315dcf7-6bef-472c-bef6-b8674558ffd3",
   "metadata": {},
   "outputs": [],
   "source": [
    "### Functions ###"
   ]
  },
  {
   "cell_type": "code",
   "execution_count": null,
   "id": "7a095831-8d93-4904-8bb3-070f73e84ae7",
   "metadata": {},
   "outputs": [],
   "source": [
    "def greet(name):\n",
    "    return f\"Hello, {name}\"\n",
    "\n",
    "print(greet(\"Arun\"))"
   ]
  },
  {
   "cell_type": "code",
   "execution_count": null,
   "id": "c4b55928-0cac-45cc-b043-4d5291e564ed",
   "metadata": {},
   "outputs": [],
   "source": [
    "def greet(name=\"World\"):\n",
    "    return f\"Hello, {name}!\"\n",
    "\n",
    "print(greet())"
   ]
  },
  {
   "cell_type": "code",
   "execution_count": null,
   "id": "ed3e3a72-0803-4a8b-ad40-4bc26b4e3de7",
   "metadata": {},
   "outputs": [],
   "source": [
    "###Reading Files####"
   ]
  },
  {
   "cell_type": "code",
   "execution_count": null,
   "id": "e213b256-1f2e-4c2c-b13e-4a785d730cb3",
   "metadata": {},
   "outputs": [],
   "source": [
    "import pandas as pd\n",
    "\n",
    "df = pd.read_csv(\"data.csv\")\n",
    "print(df.head())"
   ]
  },
  {
   "cell_type": "code",
   "execution_count": null,
   "id": "10e56937-a4dd-4281-87a3-56fc393cf4e3",
   "metadata": {},
   "outputs": [],
   "source": [
    "import json\n",
    "\n",
    "with open(\"data.json\") as f:\n",
    "    data = json.load(f)\n",
    "\n",
    "print(data)"
   ]
  },
  {
   "cell_type": "code",
   "execution_count": null,
   "id": "b99a8ef1-f3b2-4cb7-b209-9741a276c42c",
   "metadata": {},
   "outputs": [],
   "source": [
    "df = pd.read_json(\"data.json\")\n",
    "print(df.head())"
   ]
  },
  {
   "cell_type": "code",
   "execution_count": null,
   "id": "fa3f7ec4-c963-4a49-a2e1-038584ce4bfa",
   "metadata": {},
   "outputs": [],
   "source": [
    "# Create a list of five moveies and print each with a for loop\n",
    "\n",
    "myMovies = ['forrest gump', 'harry potter', 'goodwill hunting', 'starwars', 'pirates of the carribean']\n",
    "\n",
    "for movies in myMovies:\n",
    "    print(movies)"
   ]
  },
  {
   "cell_type": "code",
   "execution_count": null,
   "id": "fa3d9c4b-bf90-4c3b-a3e8-7a2a0d473163",
   "metadata": {},
   "outputs": [],
   "source": [
    "# Write a function square_list(nums) that returns a new list with each number squared.\n",
    "\n",
    "def square_list(nums):\n",
    "    return [x**2 for x in nums]"
   ]
  },
  {
   "cell_type": "code",
   "execution_count": 1,
   "id": "f1027aed-ec09-41d8-9154-88bbb7ce62bb",
   "metadata": {},
   "outputs": [
    {
     "name": "stdout",
     "output_type": "stream",
     "text": [
      "CSV file 'students.csv' created!\n"
     ]
    }
   ],
   "source": [
    "import pandas as pd\n",
    "\n",
    "data = {\n",
    "    'Name': ['Alice', 'Bob', 'Charlie'],\n",
    "    'Age': [23, 25, 22],\n",
    "    'Major': ['Physics', 'Math', 'CS']\n",
    "}\n",
    "\n",
    "df = pd.DataFrame(data)\n",
    "\n",
    "df.to_csv('students.csv', index = False)\n",
    "\n",
    "print(\"CSV file 'students.csv' created!\")"
   ]
  },
  {
   "cell_type": "code",
   "execution_count": 2,
   "id": "92877a1f-3a07-43eb-8d4a-ea9aaf5975f9",
   "metadata": {},
   "outputs": [
    {
     "name": "stdout",
     "output_type": "stream",
     "text": [
      "JSON file 'students.json' created!\n"
     ]
    }
   ],
   "source": [
    "import json\n",
    "\n",
    "data = [\n",
    "    {\"Name\": \"Alice\", \"Age\": 23, \"Major\": \"Physics\"},\n",
    "    {\"Name\": \"Bob\", \"Age\": 25, \"Major\": \"Math\"},\n",
    "    {\"Name\": \"Charlie\", \"Age\": 22, \"Major\": \"CS\"}\n",
    "]\n",
    "\n",
    "with open('students.json', 'w') as f:\n",
    "    json.dump(data, f, indent=4)\n",
    "\n",
    "print(\"JSON file 'students.json' created!\")"
   ]
  }
 ],
 "metadata": {
  "kernelspec": {
   "display_name": "Python 3 (ipykernel)",
   "language": "python",
   "name": "python3"
  },
  "language_info": {
   "codemirror_mode": {
    "name": "ipython",
    "version": 3
   },
   "file_extension": ".py",
   "mimetype": "text/x-python",
   "name": "python",
   "nbconvert_exporter": "python",
   "pygments_lexer": "ipython3",
   "version": "3.12.7"
  }
 },
 "nbformat": 4,
 "nbformat_minor": 5
}
