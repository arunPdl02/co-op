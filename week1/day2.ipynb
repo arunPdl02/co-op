{
 "cells": [
  {
   "cell_type": "code",
   "execution_count": null,
   "id": "24662742",
   "metadata": {
    "vscode": {
     "languageId": "plaintext"
    }
   },
   "outputs": [],
   "source": [
    "### working with json files"
   ]
  },
  {
   "cell_type": "code",
   "execution_count": null,
   "id": "5c2f39af",
   "metadata": {
    "vscode": {
     "languageId": "plaintext"
    }
   },
   "outputs": [],
   "source": [
    "import json\n",
    "\n",
    "data = {\n",
    "    name: [\"Arun\", \"Barun\", \"Samikshya\"],\n",
    "    courses: [\n",
    "        {\"Arun\": [\"python\", \"json\", \"pandas\"],\n",
    "        \"Barun\": [\"marketing\", \"communications\", \"customer relations\"],\n",
    "        \"Samikshya\": [\"Law\", \"Economics\", \"Immigration\"]}\n",
    "    ],\n",
    "    address: [\n",
    "        {\"Arun\": \"Vancouver\",\n",
    "        \"Barun\": \"Pokhara\",\n",
    "        \"Samikshya\": \"Smithers\"}\n",
    "    ]\n",
    "}\n",
    "\n",
    "with open('data.json', 'w') as f:\n",
    "    json.dump(data, f, indent=4)"
   ]
  },
  {
   "cell_type": "code",
   "execution_count": null,
   "id": "e71c7ae4",
   "metadata": {
    "vscode": {
     "languageId": "plaintext"
    }
   },
   "outputs": [],
   "source": [
    "import json\n",
    "\n",
    "data2 = {\n",
    "    \"students\" : [\n",
    "        {\n",
    "            \"name\" : \"Arun\",\n",
    "            \"classes\" : [\"python\", \"json\", \"pandas\"],\n",
    "            \"address\" : \n",
    "            {\n",
    "                \"city\": \"Vancouver\",\n",
    "                \"postal\" : \"v6an8l\"\n",
    "            }\n",
    "        },\n",
    "        {\n",
    "            \"name\" : \"Barun\",\n",
    "            \"classes\" : [\"marketing\", \"communications\", \"customer relations\"],\n",
    "            \"address\" : \n",
    "            {\n",
    "                \"city\": \"Pokhara\",\n",
    "                \"postal\" : \"prk999\"\n",
    "            }\n",
    "        },\n",
    "        {\n",
    "            \"name\" : \"Samikshya\",\n",
    "            \"classes\" : [\"Law\", \"Economics\", \"Immigration\"],\n",
    "            \"address\" : \n",
    "            {\n",
    "                \"city\": \"Smithers\",\n",
    "                \"postal\" : \"smnit7\"\n",
    "            }\n",
    "        }\n",
    "    ]\n",
    "}\n",
    "\n",
    "with open('student.json', 'w') as f:\n",
    "    json.dump(data2, f, indent=4)    "
   ]
  },
  {
   "cell_type": "code",
   "execution_count": null,
   "id": "5e097d20-734e-49fd-afd9-074cc433bce0",
   "metadata": {},
   "outputs": [],
   "source": [
    "with open('student.json', 'r') as f:\n",
    "    data = json.load(f)\n",
    "    \n",
    "# I did this and it was a mistake. I need to first find the structure of the json {print(student[0])}\n",
    "print(type(data))"
   ]
  },
  {
   "cell_type": "code",
   "execution_count": null,
   "id": "e7e4c864-3017-4567-a444-dde4bcf6120f",
   "metadata": {},
   "outputs": [],
   "source": [
    "#I find out that it's actually a dictionary not a list or anything else so I will print the keys\n",
    "print(data.keys())"
   ]
  },
  {
   "cell_type": "code",
   "execution_count": null,
   "id": "64bef59e-6c5f-49d6-af43-cf971c9dd192",
   "metadata": {},
   "outputs": [],
   "source": [
    "# now that I know the first key's name, I'll explore that key\n",
    "print(data['students'][0])"
   ]
  },
  {
   "cell_type": "code",
   "execution_count": null,
   "id": "3c822c83-339f-4720-9351-ae176b60b30f",
   "metadata": {},
   "outputs": [],
   "source": [
    "#another way to do it\n",
    "import pprint\n",
    "\n",
    "pprint.pprint(data, indent=2)  # clean nested view"
   ]
  },
  {
   "cell_type": "code",
   "execution_count": null,
   "id": "59ee2b4d-07b5-4d26-ab88-efca014c6bfa",
   "metadata": {},
   "outputs": [],
   "source": [
    "# to convert a list of list into dictionary, each entry of the list's list must only have two entries, that's why the following code works\n",
    "# data.items() retrives all the items in the dict, list(data.items()) converts it into a list of tuples, then [:5] slices it and dict() converts it back\n",
    "subset = dict(list(data.items())[:5])  # Grab first 5 key-value pairs\n",
    "pprint.pprint(subset, indent=2)"
   ]
  },
  {
   "cell_type": "code",
   "execution_count": null,
   "id": "18c62bb3-60ed-4eea-b06e-0aaf1c05a830",
   "metadata": {},
   "outputs": [],
   "source": [
    "# convert this list of lists into json\n",
    "data = [\n",
    "    [\"Arun\", [\"Python\", \"JSON\", \"Pandas\"]],\n",
    "    [\"Barun\", [\"Marketing\", \"Communication\"]],\n",
    "    [\"Samikshya\", [\"Law\", \"Economics\", \"Immigration\"]]\n",
    "]\n",
    "\n",
    "import json\n",
    "\n",
    "dataJson = dict(data)\n",
    "\n",
    "import pprint\n",
    "pprint.pprint(dataJson, indent=2)\n",
    "\n",
    "with open('dayTwo.json', 'w') as f:\n",
    "    json.dump(dataJson, f, indent=4)"
   ]
  },
  {
   "cell_type": "code",
   "execution_count": null,
   "id": "51d2e024-2403-4c70-a07f-c801961c8abc",
   "metadata": {},
   "outputs": [],
   "source": [
    "import json\n",
    "with open('dayTwo.json', 'r') as f:\n",
    "    addData = json.load(f)\n",
    "\n",
    "pprint.pprint(addData, indent=2)\n",
    "\n",
    "addData['Christy'] = ['Physiology', 'Nero-disease', 'Pathology']\n",
    "\n",
    "print()\n",
    "\n",
    "pprint.pprint(addData, indent=2)\n",
    "\n",
    "with open('day2Update.json', 'w') as f:\n",
    "    json.dump(addData, f, indent=4)"
   ]
  },
  {
   "cell_type": "code",
   "execution_count": 5,
   "id": "f622d912-a32b-488b-881d-51cde0c350ae",
   "metadata": {},
   "outputs": [
    {
     "name": "stdout",
     "output_type": "stream",
     "text": [
      "{ 'Arun': ['Python', 'JSON', 'Pandas'],\n",
      "  'Barun': ['Marketing', 'Communication'],\n",
      "  'Christy': ['Physiology', 'Nero-disease', 'Pathology'],\n",
      "  'Samikshya': ['Law', 'Economics', 'Immigration']}\n",
      "\n",
      "{ 'Arun': ['Python', 'JSON', 'Pandas'],\n",
      "  'Barun': ['Marketing', 'Communication', 'Management'],\n",
      "  'Christy': ['Physiology', 'Nero-disease', 'Pathology'],\n",
      "  'Samikshya': ['Law', 'Economics', 'Immigration']}\n"
     ]
    }
   ],
   "source": [
    "import json\n",
    "\n",
    "with open('day2Update.json', 'r') as f:\n",
    "    updateData = json.load(f)\n",
    "\n",
    "import pprint\n",
    "pprint.pprint(updateData, indent=2)\n",
    "\n",
    "print()\n",
    "\n",
    "keyToUpdate = 'Barun'\n",
    "newValueToAdd = 'Management'\n",
    "\n",
    "# if keyToUpdate in updateData:\n",
    "#    updateData[keyToUpdate].append(newValueToAdd)\n",
    "\n",
    "for key,value in updateData.items():\n",
    "    if key == keyToUpdate:\n",
    "        value.append(newValueToAdd)\n",
    "\n",
    "pprint.pprint(updateData, indent=2)\n",
    "\n",
    "with open('day2modified.json', 'w') as f:\n",
    "    json.dump(updateData, f, indent=4)"
   ]
  }
 ],
 "metadata": {
  "kernelspec": {
   "display_name": "Python 3 (ipykernel)",
   "language": "python",
   "name": "python3"
  },
  "language_info": {
   "codemirror_mode": {
    "name": "ipython",
    "version": 3
   },
   "file_extension": ".py",
   "mimetype": "text/x-python",
   "name": "python",
   "nbconvert_exporter": "python",
   "pygments_lexer": "ipython3",
   "version": "3.12.7"
  }
 },
 "nbformat": 4,
 "nbformat_minor": 5
}
