{
 "cells": [
  {
   "cell_type": "code",
   "execution_count": 1,
   "id": "ba5a2a5e-e41e-4d4b-8a1d-95be7cbae366",
   "metadata": {},
   "outputs": [
    {
     "name": "stdout",
     "output_type": "stream",
     "text": [
      "pasta\n",
      "pesto\n"
     ]
    }
   ],
   "source": [
    "food = ['sushi', 'pasta', 'pizza', 'rice', 'pesto']\n",
    "print(food[1])\n",
    "print(food[-1])"
   ]
  },
  {
   "cell_type": "code",
   "execution_count": 4,
   "id": "0e2c97e0-7f32-46f2-8a15-acaadc9190fd",
   "metadata": {},
   "outputs": [],
   "source": [
    "def printList(lis):\n",
    "    for item in lis:\n",
    "        print(item)"
   ]
  },
  {
   "cell_type": "code",
   "execution_count": 6,
   "id": "4ab8338f-ce32-4d4e-8ae2-b9153e6b791c",
   "metadata": {},
   "outputs": [
    {
     "name": "stdout",
     "output_type": "stream",
     "text": [
      "[0, 1, 2, 3, 4]\n",
      "[2, 4, 6, 8, 10]\n"
     ]
    }
   ],
   "source": [
    "nums = list(range(5))       # [0, 1, 2, 3, 4]\n",
    "even = list(range(2, 11, 2)) # [2, 4, 6, 8, 10]\n",
    "\n",
    "print(nums)\n",
    "print(even)"
   ]
  },
  {
   "cell_type": "code",
   "execution_count": 7,
   "id": "cc69cf49-a2e2-4763-9ff9-76046107801a",
   "metadata": {},
   "outputs": [
    {
     "name": "stdout",
     "output_type": "stream",
     "text": [
      "[0, 0, 0, 0, 0]\n",
      "['a', 'a', 'a']\n"
     ]
    }
   ],
   "source": [
    "zeros = [0] * 5        # [0, 0, 0, 0, 0]\n",
    "ones = ['a'] * 3         # [a, a, a]\n",
    "print(zeros)\n",
    "print(ones)"
   ]
  },
  {
   "cell_type": "code",
   "execution_count": 10,
   "id": "11a764d2-d154-45a3-a228-61f2a43cab18",
   "metadata": {},
   "outputs": [
    {
     "name": "stdout",
     "output_type": "stream",
     "text": [
      "[5, 15]\n"
     ]
    }
   ],
   "source": [
    "mylist = []\n",
    "\n",
    "mylist.append(5)\n",
    "mylist.append(10)\n",
    "mylist.append(15)\n",
    "\n",
    "mylist.remove(10)\n",
    "\n",
    "print(mylist)"
   ]
  },
  {
   "cell_type": "code",
   "execution_count": 11,
   "id": "edaa15e8-e8a1-4340-8ee8-f641e2d6bbea",
   "metadata": {},
   "outputs": [
    {
     "name": "stdout",
     "output_type": "stream",
     "text": [
      "2\n",
      "3\n"
     ]
    }
   ],
   "source": [
    "def count_items(lst):\n",
    "    print(len(lst))\n",
    "\n",
    "count_items(mylist)\n",
    "count_items(ones)"
   ]
  },
  {
   "cell_type": "code",
   "execution_count": 13,
   "id": "50cd13e2-c103-400a-bddd-4c8823d91490",
   "metadata": {},
   "outputs": [
    {
     "data": {
      "text/plain": [
       "20"
      ]
     },
     "execution_count": 13,
     "metadata": {},
     "output_type": "execute_result"
    }
   ],
   "source": [
    "def sum_lst(lst):\n",
    "    total = 0\n",
    "    for item in lst:\n",
    "        total += item\n",
    "    return total\n",
    "\n",
    "fives = [5] * 4\n",
    "sum_lst(fives)"
   ]
  },
  {
   "cell_type": "code",
   "execution_count": 14,
   "id": "8338b66e-1323-4dd3-8cde-0ce007a724a3",
   "metadata": {},
   "outputs": [
    {
     "name": "stdout",
     "output_type": "stream",
     "text": [
      "2\n",
      "4\n",
      "0\n"
     ]
    }
   ],
   "source": [
    "def filter_even(lst):\n",
    "    retLst = []\n",
    "    for num in lst:\n",
    "        if((num%2) == 0):\n",
    "            retLst.append(num)\n",
    "    return retLst\n",
    "\n",
    "testNum = [1, 2, 3, 4, 0, 7]\n",
    "evenNum = filter_even(testNum)\n",
    "printList(evenNum)"
   ]
  },
  {
   "cell_type": "code",
   "execution_count": 17,
   "id": "fb45da77-317e-4f44-8db0-29ab33fcaadd",
   "metadata": {},
   "outputs": [
    {
     "name": "stdout",
     "output_type": "stream",
     "text": [
      "7\n",
      "0\n",
      "4\n",
      "3\n",
      "2\n",
      "1\n"
     ]
    }
   ],
   "source": [
    "def reverse_lst(lst):\n",
    "    revLst = []\n",
    "    i = len(lst) - 1\n",
    "    while i >= 0:\n",
    "        revLst.append(lst[i])\n",
    "        i -= 1\n",
    "    return revLst\n",
    "\n",
    "revlst = reverse_lst(testNum)\n",
    "printList(revlst)"
   ]
  },
  {
   "cell_type": "code",
   "execution_count": 34,
   "id": "3dc97e23-f1e4-4474-987d-287f8c58e160",
   "metadata": {},
   "outputs": [
    {
     "ename": "IndentationError",
     "evalue": "expected an indented block after 'if' statement on line 2 (3399870471.py, line 3)",
     "output_type": "error",
     "traceback": [
      "\u001b[1;36m  Cell \u001b[1;32mIn[34], line 3\u001b[1;36m\u001b[0m\n\u001b[1;33m    max = lst[0]\u001b[0m\n\u001b[1;37m    ^\u001b[0m\n\u001b[1;31mIndentationError\u001b[0m\u001b[1;31m:\u001b[0m expected an indented block after 'if' statement on line 2\n"
     ]
    }
   ],
   "source": [
    "def find_max(lst):\n",
    "    if not lst:\n",
    "        return None\n",
    "    max = lst[0]\n",
    "    for i in range(1,len(lst)):\n",
    "        if( lst[i] > max):\n",
    "            max = lst[i]\n",
    "    return max\n",
    "\n",
    "testNum.append(8)\n",
    "print(find_max(testNum))"
   ]
  },
  {
   "cell_type": "code",
   "execution_count": 26,
   "id": "5d6043fe-5f7b-4acd-9832-ae2e2b89cfa1",
   "metadata": {},
   "outputs": [
    {
     "ename": "IndexError",
     "evalue": "list index out of range",
     "output_type": "error",
     "traceback": [
      "\u001b[1;31m---------------------------------------------------------------------------\u001b[0m",
      "\u001b[1;31mIndexError\u001b[0m                                Traceback (most recent call last)",
      "Cell \u001b[1;32mIn[26], line 8\u001b[0m\n\u001b[0;32m      6\u001b[0m     \u001b[38;5;28;01mreturn\u001b[39;00m lst\n\u001b[0;32m      7\u001b[0m testdup \u001b[38;5;241m=\u001b[39m [\u001b[38;5;241m1\u001b[39m, \u001b[38;5;241m1\u001b[39m, \u001b[38;5;241m3\u001b[39m, \u001b[38;5;241m4\u001b[39m, \u001b[38;5;241m5\u001b[39m, \u001b[38;5;241m4\u001b[39m, \u001b[38;5;241m0\u001b[39m]\n\u001b[1;32m----> 8\u001b[0m \u001b[38;5;28mprint\u001b[39m( remove_duplicates(testdup))\n",
      "Cell \u001b[1;32mIn[26], line 4\u001b[0m, in \u001b[0;36mremove_duplicates\u001b[1;34m(lst)\u001b[0m\n\u001b[0;32m      2\u001b[0m \u001b[38;5;28;01mfor\u001b[39;00m i \u001b[38;5;129;01min\u001b[39;00m \u001b[38;5;28mrange\u001b[39m(\u001b[38;5;241m0\u001b[39m, \u001b[38;5;28mlen\u001b[39m(lst)\u001b[38;5;241m-\u001b[39m\u001b[38;5;241m1\u001b[39m):\n\u001b[0;32m      3\u001b[0m     \u001b[38;5;28;01mfor\u001b[39;00m j \u001b[38;5;129;01min\u001b[39;00m \u001b[38;5;28mrange\u001b[39m( i \u001b[38;5;241m+\u001b[39m \u001b[38;5;241m1\u001b[39m, \u001b[38;5;28mlen\u001b[39m(lst)):\n\u001b[1;32m----> 4\u001b[0m         \u001b[38;5;28;01mif\u001b[39;00m(lst[i] \u001b[38;5;241m==\u001b[39m lst[j]):\n\u001b[0;32m      5\u001b[0m             lst\u001b[38;5;241m.\u001b[39mremove(j)\n\u001b[0;32m      6\u001b[0m \u001b[38;5;28;01mreturn\u001b[39;00m lst\n",
      "\u001b[1;31mIndexError\u001b[0m: list index out of range"
     ]
    }
   ],
   "source": [
    "def remove_duplicates(lst):\n",
    "    for i in range(len(lst)-1):\n",
    "        for j in range( i + 1, len(lst)):\n",
    "            if(lst[i] == lst[j]):\n",
    "                lst.remove(j)\n",
    "    return lst\n",
    "testdup = [1, 1, 3, 4, 5, 4, 0]\n",
    "print( remove_duplicates(testdup))"
   ]
  },
  {
   "cell_type": "code",
   "execution_count": null,
   "id": "4f878e86-afb7-44e9-b243-228f6ffe0774",
   "metadata": {},
   "outputs": [],
   "source": [
    "def remove_duplicates_set(lst):\n",
    "    return list(set(lst))\n",
    "\n",
    "print(remove_duplicates_set(testdup))  # Output: [0, 1, 3, 4, 5] (order may vary)\n"
   ]
  },
  {
   "cell_type": "code",
   "execution_count": null,
   "id": "6d65e0da-1688-4de8-a81f-1bd3d850772a",
   "metadata": {},
   "outputs": [],
   "source": [
    "def remove_duplicates(lst):\n",
    "    unique = []\n",
    "    for item in lst:\n",
    "        if item not in unique:\n",
    "            unique.append(item)\n",
    "    return unique\n",
    "\n",
    "# Test\n",
    "testdup = [1, 1, 3, 4, 5, 4, 0]\n",
    "print(remove_duplicates(testdup))  # Output: [1, 3, 4, 5, 0]\n"
   ]
  },
  {
   "cell_type": "code",
   "execution_count": 32,
   "id": "651307d4-3e3e-4e67-9968-848afd3b75b5",
   "metadata": {},
   "outputs": [
    {
     "name": "stdout",
     "output_type": "stream",
     "text": [
      "[1, 2, 3, 4, 5]\n"
     ]
    }
   ],
   "source": [
    "def flatten_list(inputLst):\n",
    "    outLst = []\n",
    "    for i in range(0, len(inputLst)):\n",
    "        for j in range(0, len(inputLst[i])):\n",
    "            outLst.append(inputLst[i][j])\n",
    "    return outLst\n",
    "\n",
    "lst1 = [[1, 2], [3, 4], [5]]\n",
    "lst2 = flatten_list(lst1)\n",
    "print(lst2)"
   ]
  },
  {
   "cell_type": "code",
   "execution_count": 33,
   "id": "becdf09b-1eda-48cc-9583-8618c6d75dae",
   "metadata": {},
   "outputs": [
    {
     "name": "stdout",
     "output_type": "stream",
     "text": [
      "[1, 2, 3, 4, 5]\n",
      "[3, 4, 5, 1, 2]\n"
     ]
    }
   ],
   "source": [
    "def rotate_list_left_by_two(inLst):\n",
    "    lstCpy = inLst.copy()\n",
    "    for i in range(len(inLst)):\n",
    "        inLst[i] = lstCpy[(i+2)%len(inLst)]\n",
    "\n",
    "lst3 = lst2.copy()\n",
    "print(lst3)\n",
    "rotate_list_left_by_two(lst3)\n",
    "print(lst3)"
   ]
  },
  {
   "cell_type": "code",
   "execution_count": 35,
   "id": "a6a58912-959a-40e9-896c-29dc991c0d5a",
   "metadata": {},
   "outputs": [],
   "source": [
    "# Try writing your own function that:\n",
    "# Takes a list and an index k\n",
    "# Returns the list rotated right by k using splicing"
   ]
  },
  {
   "cell_type": "code",
   "execution_count": 57,
   "id": "69c73cf4-976e-40f5-bee9-eccddfc6b35a",
   "metadata": {},
   "outputs": [
    {
     "name": "stdout",
     "output_type": "stream",
     "text": [
      "[2, 3, 4, 5, 1]\n"
     ]
    }
   ],
   "source": [
    "def rotate_right_by_k(inLst, k):\n",
    "    k = k % len(inLst)\n",
    "    rotatedLst = inLst[-k:] + inLst[:(len(inLst)-k)]\n",
    "    return rotatedLst\n",
    "\n",
    "tesLst1 = [1, 2, 3, 4, 5]\n",
    "lst4 = rotate_right_by_k(tesLst1, 4)\n",
    "print(lst4)"
   ]
  },
  {
   "cell_type": "code",
   "execution_count": 58,
   "id": "3fff0e99-2091-4eeb-b30e-547e174f4390",
   "metadata": {},
   "outputs": [
    {
     "name": "stdout",
     "output_type": "stream",
     "text": [
      "0 a\n",
      "1 b\n",
      "2 c\n"
     ]
    }
   ],
   "source": [
    "for index, value in enumerate(['a', 'b', 'c']):\n",
    "    print(index, value)"
   ]
  },
  {
   "cell_type": "code",
   "execution_count": 59,
   "id": "7ab7220b-4041-4e05-bcca-c92583ebc33f",
   "metadata": {},
   "outputs": [
    {
     "name": "stdout",
     "output_type": "stream",
     "text": [
      "Charlie\n",
      "Bob\n",
      "Alice\n"
     ]
    }
   ],
   "source": [
    "names = [\"Alice\", \"Bob\", \"Charlie\"]\n",
    "for i in range(len(names) - 1, -1, -1):\n",
    "    print(names[i])\n"
   ]
  }
 ],
 "metadata": {
  "kernelspec": {
   "display_name": "Python 3 (ipykernel)",
   "language": "python",
   "name": "python3"
  },
  "language_info": {
   "codemirror_mode": {
    "name": "ipython",
    "version": 3
   },
   "file_extension": ".py",
   "mimetype": "text/x-python",
   "name": "python",
   "nbconvert_exporter": "python",
   "pygments_lexer": "ipython3",
   "version": "3.12.7"
  }
 },
 "nbformat": 4,
 "nbformat_minor": 5
}
