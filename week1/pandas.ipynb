{
 "cells": [
  {
   "cell_type": "code",
   "execution_count": 1,
   "id": "9851b0dd-d1a7-4317-baf5-0936f6ede2c5",
   "metadata": {},
   "outputs": [],
   "source": [
    "import pandas as pd"
   ]
  },
  {
   "cell_type": "code",
   "execution_count": 2,
   "id": "dee6af11-6091-432e-a2be-f4ad8a2ad35f",
   "metadata": {},
   "outputs": [
    {
     "name": "stdout",
     "output_type": "stream",
     "text": [
      "        Name  Age            Skills\n",
      "0       Arun   25  [Python, Pandas]\n",
      "1      Barun   30       [Marketing]\n",
      "2  Samikshya   22     [Law, Policy]\n"
     ]
    }
   ],
   "source": [
    "# From a dictionary of lists\n",
    "data = {\n",
    "    \"Name\": [\"Arun\", \"Barun\", \"Samikshya\"],\n",
    "    \"Age\": [25, 30, 22],\n",
    "    \"Skills\": [[\"Python\", \"Pandas\"], [\"Marketing\"], [\"Law\", \"Policy\"]]\n",
    "}\n",
    "df = pd.DataFrame(data)\n",
    "print(df)"
   ]
  },
  {
   "cell_type": "code",
   "execution_count": 3,
   "id": "6efa9dbd-da12-40a9-aa31-8695cdeaaec7",
   "metadata": {},
   "outputs": [
    {
     "data": {
      "text/plain": [
       "0         Arun\n",
       "1        Barun\n",
       "2    Samikshya\n",
       "Name: Name, dtype: object"
      ]
     },
     "execution_count": 3,
     "metadata": {},
     "output_type": "execute_result"
    }
   ],
   "source": [
    "df[\"Name\"] #series"
   ]
  },
  {
   "cell_type": "code",
   "execution_count": 5,
   "id": "10238962-64a1-485d-b6d9-fc31c4a393dc",
   "metadata": {},
   "outputs": [
    {
     "data": {
      "text/html": [
       "<div>\n",
       "<style scoped>\n",
       "    .dataframe tbody tr th:only-of-type {\n",
       "        vertical-align: middle;\n",
       "    }\n",
       "\n",
       "    .dataframe tbody tr th {\n",
       "        vertical-align: top;\n",
       "    }\n",
       "\n",
       "    .dataframe thead th {\n",
       "        text-align: right;\n",
       "    }\n",
       "</style>\n",
       "<table border=\"1\" class=\"dataframe\">\n",
       "  <thead>\n",
       "    <tr style=\"text-align: right;\">\n",
       "      <th></th>\n",
       "      <th>Name</th>\n",
       "    </tr>\n",
       "  </thead>\n",
       "  <tbody>\n",
       "    <tr>\n",
       "      <th>0</th>\n",
       "      <td>Arun</td>\n",
       "    </tr>\n",
       "    <tr>\n",
       "      <th>1</th>\n",
       "      <td>Barun</td>\n",
       "    </tr>\n",
       "    <tr>\n",
       "      <th>2</th>\n",
       "      <td>Samikshya</td>\n",
       "    </tr>\n",
       "  </tbody>\n",
       "</table>\n",
       "</div>"
      ],
      "text/plain": [
       "        Name\n",
       "0       Arun\n",
       "1      Barun\n",
       "2  Samikshya"
      ]
     },
     "execution_count": 5,
     "metadata": {},
     "output_type": "execute_result"
    }
   ],
   "source": [
    "df[[\"Name\"]] #dataframe"
   ]
  },
  {
   "cell_type": "code",
   "execution_count": 8,
   "id": "292d44f5-ce35-4067-9cbb-07d104101aab",
   "metadata": {},
   "outputs": [
    {
     "data": {
      "text/html": [
       "<div>\n",
       "<style scoped>\n",
       "    .dataframe tbody tr th:only-of-type {\n",
       "        vertical-align: middle;\n",
       "    }\n",
       "\n",
       "    .dataframe tbody tr th {\n",
       "        vertical-align: top;\n",
       "    }\n",
       "\n",
       "    .dataframe thead th {\n",
       "        text-align: right;\n",
       "    }\n",
       "</style>\n",
       "<table border=\"1\" class=\"dataframe\">\n",
       "  <thead>\n",
       "    <tr style=\"text-align: right;\">\n",
       "      <th></th>\n",
       "      <th>Name</th>\n",
       "      <th>Age</th>\n",
       "    </tr>\n",
       "  </thead>\n",
       "  <tbody>\n",
       "    <tr>\n",
       "      <th>0</th>\n",
       "      <td>Arun</td>\n",
       "      <td>25</td>\n",
       "    </tr>\n",
       "    <tr>\n",
       "      <th>1</th>\n",
       "      <td>Barun</td>\n",
       "      <td>30</td>\n",
       "    </tr>\n",
       "    <tr>\n",
       "      <th>2</th>\n",
       "      <td>Samikshya</td>\n",
       "      <td>22</td>\n",
       "    </tr>\n",
       "  </tbody>\n",
       "</table>\n",
       "</div>"
      ],
      "text/plain": [
       "        Name  Age\n",
       "0       Arun   25\n",
       "1      Barun   30\n",
       "2  Samikshya   22"
      ]
     },
     "execution_count": 8,
     "metadata": {},
     "output_type": "execute_result"
    }
   ],
   "source": [
    "df[[\"Name\", \"Age\"]]"
   ]
  },
  {
   "cell_type": "code",
   "execution_count": 11,
   "id": "9fb36ed5-e381-401d-b402-782821d2566c",
   "metadata": {},
   "outputs": [
    {
     "data": {
      "text/plain": [
       "Name                  Arun\n",
       "Age                     25\n",
       "Skills    [Python, Pandas]\n",
       "Name: 0, dtype: object"
      ]
     },
     "execution_count": 11,
     "metadata": {},
     "output_type": "execute_result"
    }
   ],
   "source": [
    "df.iloc[0]         # First row"
   ]
  },
  {
   "cell_type": "code",
   "execution_count": 12,
   "id": "6e8a66cf-f7c5-48bd-aa58-946f79d389e2",
   "metadata": {},
   "outputs": [
    {
     "data": {
      "text/html": [
       "<div>\n",
       "<style scoped>\n",
       "    .dataframe tbody tr th:only-of-type {\n",
       "        vertical-align: middle;\n",
       "    }\n",
       "\n",
       "    .dataframe tbody tr th {\n",
       "        vertical-align: top;\n",
       "    }\n",
       "\n",
       "    .dataframe thead th {\n",
       "        text-align: right;\n",
       "    }\n",
       "</style>\n",
       "<table border=\"1\" class=\"dataframe\">\n",
       "  <thead>\n",
       "    <tr style=\"text-align: right;\">\n",
       "      <th></th>\n",
       "      <th>Name</th>\n",
       "      <th>Age</th>\n",
       "      <th>Skills</th>\n",
       "    </tr>\n",
       "  </thead>\n",
       "  <tbody>\n",
       "    <tr>\n",
       "      <th>1</th>\n",
       "      <td>Barun</td>\n",
       "      <td>30</td>\n",
       "      <td>[Marketing]</td>\n",
       "    </tr>\n",
       "    <tr>\n",
       "      <th>2</th>\n",
       "      <td>Samikshya</td>\n",
       "      <td>22</td>\n",
       "      <td>[Law, Policy]</td>\n",
       "    </tr>\n",
       "  </tbody>\n",
       "</table>\n",
       "</div>"
      ],
      "text/plain": [
       "        Name  Age         Skills\n",
       "1      Barun   30    [Marketing]\n",
       "2  Samikshya   22  [Law, Policy]"
      ]
     },
     "execution_count": 12,
     "metadata": {},
     "output_type": "execute_result"
    }
   ],
   "source": [
    "df.iloc[1:3]       # Slice of rows"
   ]
  },
  {
   "cell_type": "code",
   "execution_count": 14,
   "id": "a332ce57-e38c-4820-9502-5f5582f56fb8",
   "metadata": {},
   "outputs": [
    {
     "data": {
      "text/plain": [
       "Name                  Arun\n",
       "Age                     25\n",
       "Skills    [Python, Pandas]\n",
       "Name: 0, dtype: object"
      ]
     },
     "execution_count": 14,
     "metadata": {},
     "output_type": "execute_result"
    }
   ],
   "source": [
    "df.loc[0]          # Same as iloc if default index"
   ]
  },
  {
   "cell_type": "code",
   "execution_count": 15,
   "id": "dcaa11f7-cb9f-4d31-9a95-862508165a3b",
   "metadata": {},
   "outputs": [
    {
     "data": {
      "text/html": [
       "<div>\n",
       "<style scoped>\n",
       "    .dataframe tbody tr th:only-of-type {\n",
       "        vertical-align: middle;\n",
       "    }\n",
       "\n",
       "    .dataframe tbody tr th {\n",
       "        vertical-align: top;\n",
       "    }\n",
       "\n",
       "    .dataframe thead th {\n",
       "        text-align: right;\n",
       "    }\n",
       "</style>\n",
       "<table border=\"1\" class=\"dataframe\">\n",
       "  <thead>\n",
       "    <tr style=\"text-align: right;\">\n",
       "      <th></th>\n",
       "      <th>Name</th>\n",
       "      <th>Age</th>\n",
       "      <th>Skills</th>\n",
       "    </tr>\n",
       "  </thead>\n",
       "  <tbody>\n",
       "    <tr>\n",
       "      <th>1</th>\n",
       "      <td>Barun</td>\n",
       "      <td>30</td>\n",
       "      <td>[Marketing]</td>\n",
       "    </tr>\n",
       "    <tr>\n",
       "      <th>2</th>\n",
       "      <td>Samikshya</td>\n",
       "      <td>22</td>\n",
       "      <td>[Law, Policy]</td>\n",
       "    </tr>\n",
       "  </tbody>\n",
       "</table>\n",
       "</div>"
      ],
      "text/plain": [
       "        Name  Age         Skills\n",
       "1      Barun   30    [Marketing]\n",
       "2  Samikshya   22  [Law, Policy]"
      ]
     },
     "execution_count": 15,
     "metadata": {},
     "output_type": "execute_result"
    }
   ],
   "source": [
    "df.loc[1:3]"
   ]
  },
  {
   "cell_type": "code",
   "execution_count": 25,
   "id": "ba3434e5-aebf-4c20-89ec-5bd98f12f4fd",
   "metadata": {},
   "outputs": [
    {
     "name": "stdout",
     "output_type": "stream",
     "text": [
      "Name                  Arun\n",
      "Age                     25\n",
      "Skills    [Python, Pandas]\n",
      "Name: a, dtype: object\n"
     ]
    }
   ],
   "source": [
    "df2 = pd.DataFrame(data, index=[\"a\", \"b\", \"c\"])\n",
    "print(df2.loc[\"a\"])  # Row with index 'a'"
   ]
  },
  {
   "cell_type": "code",
   "execution_count": 26,
   "id": "ce53ad14-23d5-4b32-be97-bf94656c41e2",
   "metadata": {},
   "outputs": [
    {
     "name": "stdout",
     "output_type": "stream",
     "text": [
      "        Name  Age            Skills\n",
      "a       Arun   25  [Python, Pandas]\n",
      "b      Barun   30       [Marketing]\n",
      "c  Samikshya   22     [Law, Policy]\n"
     ]
    }
   ],
   "source": [
    "print(df2)"
   ]
  },
  {
   "cell_type": "code",
   "execution_count": 28,
   "id": "7c431c41-aba8-4383-9cf1-39bd3704aa5b",
   "metadata": {},
   "outputs": [
    {
     "data": {
      "text/html": [
       "<div>\n",
       "<style scoped>\n",
       "    .dataframe tbody tr th:only-of-type {\n",
       "        vertical-align: middle;\n",
       "    }\n",
       "\n",
       "    .dataframe tbody tr th {\n",
       "        vertical-align: top;\n",
       "    }\n",
       "\n",
       "    .dataframe thead th {\n",
       "        text-align: right;\n",
       "    }\n",
       "</style>\n",
       "<table border=\"1\" class=\"dataframe\">\n",
       "  <thead>\n",
       "    <tr style=\"text-align: right;\">\n",
       "      <th></th>\n",
       "      <th>Name</th>\n",
       "      <th>Skills</th>\n",
       "    </tr>\n",
       "  </thead>\n",
       "  <tbody>\n",
       "    <tr>\n",
       "      <th>a</th>\n",
       "      <td>Arun</td>\n",
       "      <td>[Python, Pandas]</td>\n",
       "    </tr>\n",
       "    <tr>\n",
       "      <th>c</th>\n",
       "      <td>Samikshya</td>\n",
       "      <td>[Law, Policy]</td>\n",
       "    </tr>\n",
       "  </tbody>\n",
       "</table>\n",
       "</div>"
      ],
      "text/plain": [
       "        Name            Skills\n",
       "a       Arun  [Python, Pandas]\n",
       "c  Samikshya     [Law, Policy]"
      ]
     },
     "execution_count": 28,
     "metadata": {},
     "output_type": "execute_result"
    }
   ],
   "source": [
    "df2.loc[[\"a\", \"c\"], [\"Name\", \"Skills\"]]  # Specific rows and columns by name"
   ]
  },
  {
   "cell_type": "code",
   "execution_count": 20,
   "id": "4f32d4ba-15a6-4693-b9c2-b9e750568d90",
   "metadata": {},
   "outputs": [],
   "source": [
    "### Practise"
   ]
  },
  {
   "cell_type": "code",
   "execution_count": 19,
   "id": "5e8dbe2d-2718-4eb8-a84b-00b871a8aa45",
   "metadata": {},
   "outputs": [
    {
     "name": "stdout",
     "output_type": "stream",
     "text": [
      "  Student  Score  Passed\n",
      "0       A     85    True\n",
      "1       B     90    True\n",
      "2       C     78   False\n"
     ]
    }
   ],
   "source": [
    "practise_data = {\n",
    "    \"Student\": [\"A\", \"B\", \"C\"], \n",
    "    \"Score\": [85, 90, 78], \n",
    "    \"Passed\": [True, True, False]}\n",
    "\n",
    "practise_df = pd.DataFrame(practise_data)\n",
    "print(practise_df)"
   ]
  },
  {
   "cell_type": "code",
   "execution_count": 22,
   "id": "332488c0-f740-42e8-9ad8-b86c5c2b2a8a",
   "metadata": {},
   "outputs": [
    {
     "data": {
      "text/html": [
       "<div>\n",
       "<style scoped>\n",
       "    .dataframe tbody tr th:only-of-type {\n",
       "        vertical-align: middle;\n",
       "    }\n",
       "\n",
       "    .dataframe tbody tr th {\n",
       "        vertical-align: top;\n",
       "    }\n",
       "\n",
       "    .dataframe thead th {\n",
       "        text-align: right;\n",
       "    }\n",
       "</style>\n",
       "<table border=\"1\" class=\"dataframe\">\n",
       "  <thead>\n",
       "    <tr style=\"text-align: right;\">\n",
       "      <th></th>\n",
       "      <th>Score</th>\n",
       "    </tr>\n",
       "  </thead>\n",
       "  <tbody>\n",
       "    <tr>\n",
       "      <th>0</th>\n",
       "      <td>85</td>\n",
       "    </tr>\n",
       "    <tr>\n",
       "      <th>1</th>\n",
       "      <td>90</td>\n",
       "    </tr>\n",
       "    <tr>\n",
       "      <th>2</th>\n",
       "      <td>78</td>\n",
       "    </tr>\n",
       "  </tbody>\n",
       "</table>\n",
       "</div>"
      ],
      "text/plain": [
       "   Score\n",
       "0     85\n",
       "1     90\n",
       "2     78"
      ]
     },
     "execution_count": 22,
     "metadata": {},
     "output_type": "execute_result"
    }
   ],
   "source": [
    "practise_df[[\"Score\"]]"
   ]
  },
  {
   "cell_type": "code",
   "execution_count": 23,
   "id": "13a86e8e-0cbe-4717-8a1e-7b47e74a6304",
   "metadata": {},
   "outputs": [
    {
     "data": {
      "text/plain": [
       "Student       B\n",
       "Score        90\n",
       "Passed     True\n",
       "Name: 1, dtype: object"
      ]
     },
     "execution_count": 23,
     "metadata": {},
     "output_type": "execute_result"
    }
   ],
   "source": [
    "practise_df.iloc[1] #just the second row"
   ]
  },
  {
   "cell_type": "code",
   "execution_count": 29,
   "id": "f8fee9c0-d90e-48e4-8452-24e01573b69a",
   "metadata": {},
   "outputs": [],
   "source": [
    "### Filter Data"
   ]
  },
  {
   "cell_type": "code",
   "execution_count": 32,
   "id": "b6f123b8-ca26-4f0f-9f35-01f6c7e29907",
   "metadata": {},
   "outputs": [
    {
     "data": {
      "text/html": [
       "<div>\n",
       "<style scoped>\n",
       "    .dataframe tbody tr th:only-of-type {\n",
       "        vertical-align: middle;\n",
       "    }\n",
       "\n",
       "    .dataframe tbody tr th {\n",
       "        vertical-align: top;\n",
       "    }\n",
       "\n",
       "    .dataframe thead th {\n",
       "        text-align: right;\n",
       "    }\n",
       "</style>\n",
       "<table border=\"1\" class=\"dataframe\">\n",
       "  <thead>\n",
       "    <tr style=\"text-align: right;\">\n",
       "      <th></th>\n",
       "      <th>Name</th>\n",
       "      <th>Age</th>\n",
       "      <th>Passed</th>\n",
       "    </tr>\n",
       "  </thead>\n",
       "  <tbody>\n",
       "    <tr>\n",
       "      <th>0</th>\n",
       "      <td>Arun</td>\n",
       "      <td>25</td>\n",
       "      <td>True</td>\n",
       "    </tr>\n",
       "    <tr>\n",
       "      <th>1</th>\n",
       "      <td>Barun</td>\n",
       "      <td>30</td>\n",
       "      <td>False</td>\n",
       "    </tr>\n",
       "  </tbody>\n",
       "</table>\n",
       "</div>"
      ],
      "text/plain": [
       "    Name  Age  Passed\n",
       "0   Arun   25    True\n",
       "1  Barun   30   False"
      ]
     },
     "execution_count": 32,
     "metadata": {},
     "output_type": "execute_result"
    }
   ],
   "source": [
    "# Setup\n",
    "df3 = pd.DataFrame({\n",
    "    \"Name\": [\"Arun\", \"Barun\", \"Samikshya\"],\n",
    "    \"Age\": [25, 30, 22],\n",
    "    \"Passed\": [True, False, True]\n",
    "})\n",
    "# Example: select rows where Age > 23\n",
    "df3[df3[\"Age\"] > 23]"
   ]
  },
  {
   "cell_type": "code",
   "execution_count": 33,
   "id": "678f9d4a-600b-42dd-b136-9f3bcf42316f",
   "metadata": {},
   "outputs": [
    {
     "data": {
      "text/html": [
       "<div>\n",
       "<style scoped>\n",
       "    .dataframe tbody tr th:only-of-type {\n",
       "        vertical-align: middle;\n",
       "    }\n",
       "\n",
       "    .dataframe tbody tr th {\n",
       "        vertical-align: top;\n",
       "    }\n",
       "\n",
       "    .dataframe thead th {\n",
       "        text-align: right;\n",
       "    }\n",
       "</style>\n",
       "<table border=\"1\" class=\"dataframe\">\n",
       "  <thead>\n",
       "    <tr style=\"text-align: right;\">\n",
       "      <th></th>\n",
       "      <th>Name</th>\n",
       "      <th>Age</th>\n",
       "      <th>Passed</th>\n",
       "    </tr>\n",
       "  </thead>\n",
       "  <tbody>\n",
       "    <tr>\n",
       "      <th>0</th>\n",
       "      <td>Arun</td>\n",
       "      <td>25</td>\n",
       "      <td>True</td>\n",
       "    </tr>\n",
       "    <tr>\n",
       "      <th>2</th>\n",
       "      <td>Samikshya</td>\n",
       "      <td>22</td>\n",
       "      <td>True</td>\n",
       "    </tr>\n",
       "  </tbody>\n",
       "</table>\n",
       "</div>"
      ],
      "text/plain": [
       "        Name  Age  Passed\n",
       "0       Arun   25    True\n",
       "2  Samikshya   22    True"
      ]
     },
     "execution_count": 33,
     "metadata": {},
     "output_type": "execute_result"
    }
   ],
   "source": [
    "# Example: select rows where Passed is True\n",
    "df3[df3[\"Passed\"] == True]"
   ]
  },
  {
   "cell_type": "code",
   "execution_count": null,
   "id": "e28c5e46-7bfb-4fa1-b3fb-856b48e06ce0",
   "metadata": {},
   "outputs": [],
   "source": [
    "### modifying data"
   ]
  },
  {
   "cell_type": "code",
   "execution_count": 35,
   "id": "c9f543bd-da54-4961-84c1-9ffa88b413a6",
   "metadata": {},
   "outputs": [
    {
     "name": "stdout",
     "output_type": "stream",
     "text": [
      "        Name  Age  Passed\n",
      "0       Arun   26    True\n",
      "1      Barun   30   False\n",
      "2  Samikshya   22    True\n"
     ]
    }
   ],
   "source": [
    "df3.loc[0, \"Age\"] = 26\n",
    "print(df3)"
   ]
  },
  {
   "cell_type": "code",
   "execution_count": 36,
   "id": "e71555ca-2f5a-45bd-a22a-10a82bfb4056",
   "metadata": {},
   "outputs": [
    {
     "name": "stdout",
     "output_type": "stream",
     "text": [
      "        Name  Age  Passed\n",
      "0       Arun   26   False\n",
      "1      Barun   30   False\n",
      "2  Samikshya   22   False\n"
     ]
    }
   ],
   "source": [
    "df3[\"Passed\"] = False  # Set all to False\n",
    "print(df3)"
   ]
  },
  {
   "cell_type": "code",
   "execution_count": 39,
   "id": "4f24c7cd-01c9-4878-b8a2-a48ff9b25294",
   "metadata": {},
   "outputs": [
    {
     "name": "stdout",
     "output_type": "stream",
     "text": [
      "        Name  Age  Passed\n",
      "0       Arun   26   False\n",
      "1      Barun   30   False\n",
      "2  Samikshya   22    True\n"
     ]
    }
   ],
   "source": [
    "df3.loc[df3[\"Age\"] < 25, \"Passed\"] = True\n",
    "print(df3)"
   ]
  },
  {
   "cell_type": "code",
   "execution_count": null,
   "id": "c33dce99-071e-4f37-8d0c-b925a3357903",
   "metadata": {},
   "outputs": [],
   "source": [
    "### adding columns"
   ]
  },
  {
   "cell_type": "code",
   "execution_count": 40,
   "id": "4956c232-fb53-453f-a496-853ef3f1ece1",
   "metadata": {},
   "outputs": [
    {
     "name": "stdout",
     "output_type": "stream",
     "text": [
      "        Name  Age  Passed Grade\n",
      "0       Arun   26   False     A\n",
      "1      Barun   30   False     B\n",
      "2  Samikshya   22    True    A-\n"
     ]
    }
   ],
   "source": [
    "df3[\"Grade\"] = [\"A\", \"B\", \"A-\"]  # Add new column\n",
    "print(df3)"
   ]
  },
  {
   "cell_type": "code",
   "execution_count": 41,
   "id": "98338c6d-90d3-4b7a-b222-b1a5653d83dd",
   "metadata": {},
   "outputs": [
    {
     "name": "stdout",
     "output_type": "stream",
     "text": [
      "        Name  Age  Passed Grade  AgePlusTen\n",
      "0       Arun   26   False     A          36\n",
      "1      Barun   30   False     B          40\n",
      "2  Samikshya   22    True    A-          32\n"
     ]
    }
   ],
   "source": [
    "df3[\"AgePlusTen\"] = df3[\"Age\"] + 10 #create a new column from an existing one\n",
    "print(df3)"
   ]
  },
  {
   "cell_type": "code",
   "execution_count": null,
   "id": "d5842286-f2f0-44bd-84fe-85c11bf1088e",
   "metadata": {},
   "outputs": [],
   "source": [
    "### adding rows"
   ]
  },
  {
   "cell_type": "code",
   "execution_count": 43,
   "id": "9f3cb2a5-afb7-445a-929b-96e833dbb3d0",
   "metadata": {},
   "outputs": [
    {
     "name": "stdout",
     "output_type": "stream",
     "text": [
      "        Name  Age  Passed Grade  AgePlusTen\n",
      "0       Arun   26   False     A          36\n",
      "1      Barun   30   False     B          40\n",
      "2  Samikshya   22    True    A-          32\n",
      "3    Christy   24    True    B+          34\n"
     ]
    }
   ],
   "source": [
    "df3.loc[3] = [\"Christy\", 24, True, \"B+\", 34]\n",
    "print(df3)"
   ]
  },
  {
   "cell_type": "code",
   "execution_count": null,
   "id": "09e5ae5d-4f84-470a-925a-5aef3ee5e977",
   "metadata": {},
   "outputs": [],
   "source": [
    "### dropping values (rows/columns)"
   ]
  },
  {
   "cell_type": "code",
   "execution_count": 47,
   "id": "ab04cbc5-ece8-41f5-8540-5f9f98703f0e",
   "metadata": {},
   "outputs": [
    {
     "data": {
      "text/html": [
       "<div>\n",
       "<style scoped>\n",
       "    .dataframe tbody tr th:only-of-type {\n",
       "        vertical-align: middle;\n",
       "    }\n",
       "\n",
       "    .dataframe tbody tr th {\n",
       "        vertical-align: top;\n",
       "    }\n",
       "\n",
       "    .dataframe thead th {\n",
       "        text-align: right;\n",
       "    }\n",
       "</style>\n",
       "<table border=\"1\" class=\"dataframe\">\n",
       "  <thead>\n",
       "    <tr style=\"text-align: right;\">\n",
       "      <th></th>\n",
       "      <th>Name</th>\n",
       "      <th>Age</th>\n",
       "      <th>Passed</th>\n",
       "      <th>Grade</th>\n",
       "      <th>AgePlusTen</th>\n",
       "    </tr>\n",
       "  </thead>\n",
       "  <tbody>\n",
       "    <tr>\n",
       "      <th>0</th>\n",
       "      <td>Arun</td>\n",
       "      <td>26</td>\n",
       "      <td>False</td>\n",
       "      <td>A</td>\n",
       "      <td>36</td>\n",
       "    </tr>\n",
       "    <tr>\n",
       "      <th>2</th>\n",
       "      <td>Samikshya</td>\n",
       "      <td>22</td>\n",
       "      <td>True</td>\n",
       "      <td>A-</td>\n",
       "      <td>32</td>\n",
       "    </tr>\n",
       "    <tr>\n",
       "      <th>3</th>\n",
       "      <td>Christy</td>\n",
       "      <td>24</td>\n",
       "      <td>True</td>\n",
       "      <td>B+</td>\n",
       "      <td>34</td>\n",
       "    </tr>\n",
       "  </tbody>\n",
       "</table>\n",
       "</div>"
      ],
      "text/plain": [
       "        Name  Age  Passed Grade  AgePlusTen\n",
       "0       Arun   26   False     A          36\n",
       "2  Samikshya   22    True    A-          32\n",
       "3    Christy   24    True    B+          34"
      ]
     },
     "execution_count": 47,
     "metadata": {},
     "output_type": "execute_result"
    }
   ],
   "source": [
    "df3.drop(1)                   # Drops row with index 1"
   ]
  },
  {
   "cell_type": "code",
   "execution_count": 48,
   "id": "d624dda9-69d5-4c11-9919-48edab4541c0",
   "metadata": {},
   "outputs": [
    {
     "data": {
      "text/html": [
       "<div>\n",
       "<style scoped>\n",
       "    .dataframe tbody tr th:only-of-type {\n",
       "        vertical-align: middle;\n",
       "    }\n",
       "\n",
       "    .dataframe tbody tr th {\n",
       "        vertical-align: top;\n",
       "    }\n",
       "\n",
       "    .dataframe thead th {\n",
       "        text-align: right;\n",
       "    }\n",
       "</style>\n",
       "<table border=\"1\" class=\"dataframe\">\n",
       "  <thead>\n",
       "    <tr style=\"text-align: right;\">\n",
       "      <th></th>\n",
       "      <th>Name</th>\n",
       "      <th>Age</th>\n",
       "      <th>Passed</th>\n",
       "      <th>AgePlusTen</th>\n",
       "    </tr>\n",
       "  </thead>\n",
       "  <tbody>\n",
       "    <tr>\n",
       "      <th>0</th>\n",
       "      <td>Arun</td>\n",
       "      <td>26</td>\n",
       "      <td>False</td>\n",
       "      <td>36</td>\n",
       "    </tr>\n",
       "    <tr>\n",
       "      <th>1</th>\n",
       "      <td>Barun</td>\n",
       "      <td>30</td>\n",
       "      <td>False</td>\n",
       "      <td>40</td>\n",
       "    </tr>\n",
       "    <tr>\n",
       "      <th>2</th>\n",
       "      <td>Samikshya</td>\n",
       "      <td>22</td>\n",
       "      <td>True</td>\n",
       "      <td>32</td>\n",
       "    </tr>\n",
       "    <tr>\n",
       "      <th>3</th>\n",
       "      <td>Christy</td>\n",
       "      <td>24</td>\n",
       "      <td>True</td>\n",
       "      <td>34</td>\n",
       "    </tr>\n",
       "  </tbody>\n",
       "</table>\n",
       "</div>"
      ],
      "text/plain": [
       "        Name  Age  Passed  AgePlusTen\n",
       "0       Arun   26   False          36\n",
       "1      Barun   30   False          40\n",
       "2  Samikshya   22    True          32\n",
       "3    Christy   24    True          34"
      ]
     },
     "execution_count": 48,
     "metadata": {},
     "output_type": "execute_result"
    }
   ],
   "source": [
    "df3.drop(\"Grade\", axis=1)     # Drops 'Grade' column"
   ]
  },
  {
   "cell_type": "code",
   "execution_count": null,
   "id": "bb578d67-16cf-44b4-8caa-1d2d1e3d440f",
   "metadata": {},
   "outputs": [],
   "source": []
  },
  {
   "cell_type": "code",
   "execution_count": 49,
   "id": "b6aae7e8-0751-4745-bf2c-8098619a3851",
   "metadata": {},
   "outputs": [],
   "source": [
    "##Practise"
   ]
  },
  {
   "cell_type": "code",
   "execution_count": 36,
   "id": "4ce2ab13-526b-4eef-ac93-b795e322c950",
   "metadata": {},
   "outputs": [
    {
     "data": {
      "text/plain": [
       "Student    object\n",
       "Age         int64\n",
       "Score       int64\n",
       "Passed       bool\n",
       "dtype: object"
      ]
     },
     "execution_count": 36,
     "metadata": {},
     "output_type": "execute_result"
    }
   ],
   "source": [
    "import pandas as pd\n",
    "data = {\n",
    "    \"Student\": [\"Ayesha\", \"Bilal\", \"Chin\", \"Deepa\"],\n",
    "    \"Age\": [22, 24, 23, 21],\n",
    "    \"Score\": [88, 75, 90, 85],\n",
    "    \"Passed\": [True, False, True, True]\n",
    "}\n",
    "\n",
    "df4 = pd.DataFrame(data)\n",
    "df4.dtypes"
   ]
  },
  {
   "cell_type": "code",
   "execution_count": 37,
   "id": "cc4e5c8f-ba20-43da-9331-fb7db00dfd11",
   "metadata": {},
   "outputs": [
    {
     "name": "stdout",
     "output_type": "stream",
     "text": [
      "  Student  Age  Score  Passed Grade\n",
      "0  Ayesha   22     88    True     A\n",
      "1   Bilal   24     75   False     C\n",
      "2    Chin   23     90    True    A+\n",
      "3   Deepa   21     85    True    B+\n"
     ]
    }
   ],
   "source": [
    "df4[\"Grade\"] = [\"A\", \"C\", \"A+\", \"B+\"]\n",
    "print(df4)"
   ]
  },
  {
   "cell_type": "code",
   "execution_count": 28,
   "id": "87b463d1-af26-4096-968d-c5edce928183",
   "metadata": {},
   "outputs": [
    {
     "data": {
      "text/plain": [
       "Student    object\n",
       "Age         int64\n",
       "Score       int64\n",
       "Passed       bool\n",
       "Grade      object\n",
       "dtype: object"
      ]
     },
     "execution_count": 28,
     "metadata": {},
     "output_type": "execute_result"
    }
   ],
   "source": [
    "df4.dtypes"
   ]
  },
  {
   "cell_type": "code",
   "execution_count": 38,
   "id": "5bdac9c4-ac80-4d3d-9d9d-98ce8f6a6ea0",
   "metadata": {},
   "outputs": [
    {
     "data": {
      "text/html": [
       "<div>\n",
       "<style scoped>\n",
       "    .dataframe tbody tr th:only-of-type {\n",
       "        vertical-align: middle;\n",
       "    }\n",
       "\n",
       "    .dataframe tbody tr th {\n",
       "        vertical-align: top;\n",
       "    }\n",
       "\n",
       "    .dataframe thead th {\n",
       "        text-align: right;\n",
       "    }\n",
       "</style>\n",
       "<table border=\"1\" class=\"dataframe\">\n",
       "  <thead>\n",
       "    <tr style=\"text-align: right;\">\n",
       "      <th></th>\n",
       "      <th>Student</th>\n",
       "      <th>Grade</th>\n",
       "    </tr>\n",
       "  </thead>\n",
       "  <tbody>\n",
       "    <tr>\n",
       "      <th>0</th>\n",
       "      <td>Ayesha</td>\n",
       "      <td>A</td>\n",
       "    </tr>\n",
       "    <tr>\n",
       "      <th>2</th>\n",
       "      <td>Chin</td>\n",
       "      <td>A+</td>\n",
       "    </tr>\n",
       "  </tbody>\n",
       "</table>\n",
       "</div>"
      ],
      "text/plain": [
       "  Student Grade\n",
       "0  Ayesha     A\n",
       "2    Chin    A+"
      ]
     },
     "execution_count": 38,
     "metadata": {},
     "output_type": "execute_result"
    }
   ],
   "source": [
    "df4.loc[df4[\"Score\"] > 85,[\"Student\", \"Grade\"]]"
   ]
  },
  {
   "cell_type": "code",
   "execution_count": 30,
   "id": "f54685ca-f6e6-4203-a58a-e793488fce41",
   "metadata": {},
   "outputs": [
    {
     "data": {
      "text/plain": [
       "Student    object\n",
       "Age         int64\n",
       "Score       int64\n",
       "Passed       bool\n",
       "Grade      object\n",
       "dtype: object"
      ]
     },
     "execution_count": 30,
     "metadata": {},
     "output_type": "execute_result"
    }
   ],
   "source": [
    "df4.dtypes"
   ]
  },
  {
   "cell_type": "code",
   "execution_count": 39,
   "id": "c74409e7-4ffb-498c-8bfc-f5163d4f9911",
   "metadata": {},
   "outputs": [
    {
     "name": "stdout",
     "output_type": "stream",
     "text": [
      "  Student  Age  Score  Passed Grade\n",
      "0  Ayesha   22     88    True     A\n",
      "1   Bilal   24     75   False     C\n",
      "2    Chin   23     92    True    A+\n",
      "3   Deepa   21     85    True    B+\n"
     ]
    }
   ],
   "source": [
    "df4.loc[df4[\"Student\"] == \"Chin\", [\"Score\"]] = 92\n",
    "print(df4)"
   ]
  },
  {
   "cell_type": "code",
   "execution_count": 32,
   "id": "122c3f55-057a-46b7-9d08-b3f04e738384",
   "metadata": {},
   "outputs": [
    {
     "data": {
      "text/plain": [
       "Student    object\n",
       "Age         int64\n",
       "Score       int64\n",
       "Passed       bool\n",
       "Grade      object\n",
       "dtype: object"
      ]
     },
     "execution_count": 32,
     "metadata": {},
     "output_type": "execute_result"
    }
   ],
   "source": [
    "df4.dtypes"
   ]
  },
  {
   "cell_type": "code",
   "execution_count": 40,
   "id": "f83e7d0d-2312-4d1a-a371-ae5f4245ca91",
   "metadata": {},
   "outputs": [
    {
     "data": {
      "text/plain": [
       "Student    object\n",
       "Age         int64\n",
       "Score       int64\n",
       "Passed       bool\n",
       "Grade      object\n",
       "dtype: object"
      ]
     },
     "execution_count": 40,
     "metadata": {},
     "output_type": "execute_result"
    }
   ],
   "source": [
    "#df4[Passed] = df4[\"Score\"] >= 85\n",
    "df4.dtypes"
   ]
  },
  {
   "cell_type": "code",
   "execution_count": 41,
   "id": "4abc611d-d1a8-448a-ada5-3cdc06421633",
   "metadata": {},
   "outputs": [
    {
     "name": "stdout",
     "output_type": "stream",
     "text": [
      "  Student  Age  Score Passed Grade\n",
      "0  Ayesha   22     88   True     A\n",
      "1   Bilal   24     75  False     C\n",
      "2    Chin   23     92   True    A+\n",
      "3   Deepa   21     85   True    B+\n",
      "4   Eshan   25     78  False     B\n"
     ]
    }
   ],
   "source": [
    "df4.loc[4] = [\"Eshan\", 25, 78, \"False\", \"B\"]\n",
    "print(df4)"
   ]
  },
  {
   "cell_type": "code",
   "execution_count": 42,
   "id": "7cf8738c-1b8b-47a0-8f3b-0ad885c53a45",
   "metadata": {},
   "outputs": [
    {
     "data": {
      "text/plain": [
       "Student    object\n",
       "Age         int64\n",
       "Score       int64\n",
       "Passed     object\n",
       "Grade      object\n",
       "dtype: object"
      ]
     },
     "execution_count": 42,
     "metadata": {},
     "output_type": "execute_result"
    }
   ],
   "source": [
    "df4.dtypes"
   ]
  },
  {
   "cell_type": "code",
   "execution_count": 48,
   "id": "05e09af5-cc84-4b51-86a8-ae401602e201",
   "metadata": {},
   "outputs": [],
   "source": [
    "df4 = df4[df4[\"Student\"] != \"Bilal\"]"
   ]
  },
  {
   "cell_type": "code",
   "execution_count": 49,
   "id": "60428be7-4084-4ebc-9457-8efed53e5e7b",
   "metadata": {},
   "outputs": [
    {
     "name": "stderr",
     "output_type": "stream",
     "text": [
      "C:\\Users\\aroon\\AppData\\Local\\Temp\\ipykernel_18612\\1518095488.py:1: SettingWithCopyWarning: \n",
      "A value is trying to be set on a copy of a slice from a DataFrame.\n",
      "Try using .loc[row_indexer,col_indexer] = value instead\n",
      "\n",
      "See the caveats in the documentation: https://pandas.pydata.org/pandas-docs/stable/user_guide/indexing.html#returning-a-view-versus-a-copy\n",
      "  df4[\"Score Boosted\"] = df4[\"Score\"] + 5\n"
     ]
    }
   ],
   "source": [
    "df4[\"Score Boosted\"] = df4[\"Score\"] + 5"
   ]
  },
  {
   "cell_type": "code",
   "execution_count": 50,
   "id": "e889129e-423c-482f-af1b-d43b95b9e925",
   "metadata": {},
   "outputs": [
    {
     "name": "stdout",
     "output_type": "stream",
     "text": [
      "  Student  Age  Score Passed Grade  Score Boosted\n",
      "2    Chin   23     92   True    A+             97\n",
      "0  Ayesha   22     88   True     A             93\n",
      "3   Deepa   21     85   True    B+             90\n",
      "4   Eshan   25     78  False     B             83\n"
     ]
    }
   ],
   "source": [
    "sorted_df = df4.sort_values(by = \"Score Boosted\", ascending = False)\n",
    "print(sorted_df)"
   ]
  },
  {
   "cell_type": "code",
   "execution_count": 24,
   "id": "d48387aa-5cd0-4764-9c1e-f1bdab26ce71",
   "metadata": {},
   "outputs": [
    {
     "name": "stdout",
     "output_type": "stream",
     "text": [
      "Students scoring above 85:\n",
      "   Student Grade\n",
      "0  Ayesha     A\n",
      "2    Chin    A+\n",
      "\n",
      "Final DataFrame after all steps including Bonus:\n",
      "  Student  Age  Score  Passed Grade  Score Boosted\n",
      "2    Chin   23     92    True    A+             97\n",
      "0  Ayesha   22     88    True     A             93\n",
      "3   Deepa   21     85    True    B+             90\n",
      "4   Eshan   25     78   False     B             83\n"
     ]
    }
   ],
   "source": [
    "import pandas as pd\n",
    "\n",
    "# Step 1: Create the DataFrame\n",
    "data = {\n",
    "    \"Student\": [\"Ayesha\", \"Bilal\", \"Chin\", \"Deepa\"],\n",
    "    \"Age\": [22, 24, 23, 21],\n",
    "    \"Score\": [88, 75, 90, 85],\n",
    "    \"Passed\": [True, False, True, True]\n",
    "}\n",
    "df = pd.DataFrame(data)\n",
    "\n",
    "# Step 2: Add \"Grade\" column\n",
    "df[\"Grade\"] = [\"A\", \"C\", \"A+\", \"B+\"]\n",
    "\n",
    "# Step 3: Filter students who scored above 85\n",
    "filtered_df = df[df[\"Score\"] > 85][[\"Student\", \"Grade\"]]\n",
    "print(\"Students scoring above 85:\\n\", filtered_df)\n",
    "\n",
    "# Step 4: Modify Chin’s score and update Passed status\n",
    "df.loc[df[\"Student\"] == \"Chin\", \"Score\"] = 92\n",
    "df[\"Passed\"] = df[\"Score\"] >= 80\n",
    "\n",
    "# Step 5: Add new student Eshan\n",
    "new_row = {\n",
    "    \"Student\": \"Eshan\",\n",
    "    \"Age\": 25,\n",
    "    \"Score\": 78,\n",
    "    \"Passed\": False,\n",
    "    \"Grade\": \"B\"\n",
    "}\n",
    "df = pd.concat([df, pd.DataFrame([new_row])], ignore_index=True)\n",
    "\n",
    "# Step 6: Remove Bilal\n",
    "df = df[df[\"Student\"] != \"Bilal\"]\n",
    "\n",
    "# BONUS: Add \"Score Boosted\" column (+5 points)\n",
    "df[\"Score Boosted\"] = df[\"Score\"] + 5\n",
    "\n",
    "# Sort by \"Score Boosted\" descending\n",
    "df_sorted = df.sort_values(by=\"Score Boosted\", ascending=False)\n",
    "\n",
    "# Final Output\n",
    "print(\"\\nFinal DataFrame after all steps including Bonus:\")\n",
    "print(df_sorted)\n"
   ]
  }
 ],
 "metadata": {
  "kernelspec": {
   "display_name": "Python 3 (ipykernel)",
   "language": "python",
   "name": "python3"
  },
  "language_info": {
   "codemirror_mode": {
    "name": "ipython",
    "version": 3
   },
   "file_extension": ".py",
   "mimetype": "text/x-python",
   "name": "python",
   "nbconvert_exporter": "python",
   "pygments_lexer": "ipython3",
   "version": "3.12.7"
  }
 },
 "nbformat": 4,
 "nbformat_minor": 5
}
