{
 "cells": [
  {
   "cell_type": "code",
   "execution_count": 2,
   "id": "bea3bf7b-9e3f-4970-92a8-a1bb3703997b",
   "metadata": {},
   "outputs": [
    {
     "name": "stdout",
     "output_type": "stream",
     "text": [
      "[1 2 3 4]\n",
      "[[1 2 3 4]\n",
      " [5 6 7 8]]\n"
     ]
    }
   ],
   "source": [
    "import numpy as np\n",
    "\n",
    "#1D array\n",
    "a = np.array([1, 2, 3, 4])\n",
    "\n",
    "#2D array\n",
    "b = np.array([[1, 2, 3, 4], [5, 6, 7, 8]])\n",
    "\n",
    "print(a)\n",
    "print(b)"
   ]
  },
  {
   "cell_type": "code",
   "execution_count": 5,
   "id": "5dc98ffb-56e6-4972-bb9f-0999714c04fd",
   "metadata": {},
   "outputs": [
    {
     "name": "stdout",
     "output_type": "stream",
     "text": [
      "Shape of b is (2, 4)\n",
      "Datatype of b is int32\n",
      "Number of dimension in b is 2\n",
      "Total elements in b is 8\n"
     ]
    }
   ],
   "source": [
    "print(\"Shape of b is\", b.shape)\n",
    "print(\"Datatype of b is\", b.dtype)\n",
    "print(\"Number of dimension in b is\", b.ndim)\n",
    "print(\"Total elements in b is\", b.size)"
   ]
  },
  {
   "cell_type": "code",
   "execution_count": 10,
   "id": "91e4fa01-d19b-4b8f-b140-c9debbee28c7",
   "metadata": {},
   "outputs": [
    {
     "name": "stdout",
     "output_type": "stream",
     "text": [
      "Shape of c is (3, 3)\n",
      "Number of dimension of c is 2\n",
      "Size of c is 9\n"
     ]
    }
   ],
   "source": [
    "#3*3 array\n",
    "c = np.array([[1, 2, 3], [4, 5, 6], [7, 8, 9]])\n",
    "print(\"Shape of c is\", c.shape)\n",
    "print(\"Number of dimension of c is\", c.ndim)\n",
    "print(\"Size of c is\", c.size)"
   ]
  },
  {
   "cell_type": "code",
   "execution_count": 8,
   "id": "ce19c53a-f3ef-4912-afe8-60b3928d80c4",
   "metadata": {},
   "outputs": [
    {
     "name": "stdout",
     "output_type": "stream",
     "text": [
      "1\n",
      "4\n",
      "2\n",
      "[5 6 7 8]\n",
      "[2 3]\n",
      "[2 6]\n"
     ]
    }
   ],
   "source": [
    "# 1D indexing\n",
    "print(a[0])        # first element\n",
    "print(a[-1])       # last element\n",
    "\n",
    "# 2D indexing\n",
    "print(b[0, 1])     # row 0, column 1\n",
    "print(b[1])        # entire row 1\n",
    "\n",
    "# Slicing\n",
    "print(a[1:3])      # elements at index 1 and 2\n",
    "print(b[:, 1])     # all of column 1"
   ]
  },
  {
   "cell_type": "code",
   "execution_count": 11,
   "id": "b7fcce49-9763-48d9-bd5e-9b2595d3168a",
   "metadata": {},
   "outputs": [
    {
     "name": "stdout",
     "output_type": "stream",
     "text": [
      "[4 5 6]\n",
      "[3 6 9]\n",
      "[[1 2]\n",
      " [4 5]]\n"
     ]
    }
   ],
   "source": [
    "#print second row\n",
    "print(c[1])\n",
    "\n",
    "#print the last column\n",
    "print(c[:, -1])\n",
    "\n",
    "#slice the top-left 2 by 2 section\n",
    "print(c[0:2, 0:2])"
   ]
  },
  {
   "cell_type": "code",
   "execution_count": 12,
   "id": "87302d1d-5873-43fe-bff1-badacf6f59c3",
   "metadata": {},
   "outputs": [
    {
     "name": "stdout",
     "output_type": "stream",
     "text": [
      "Original: [10 20 30 40]\n",
      "Add 5: [15 25 35 45]\n",
      "Multiply by 2: [20 40 60 80]\n",
      "Add two arrays: [11 22 33 44]\n"
     ]
    }
   ],
   "source": [
    "c = np.array([10, 20, 30, 40])\n",
    "print(\"Original:\", c)\n",
    "print(\"Add 5:\", c + 5)\n",
    "print(\"Multiply by 2:\", c * 2)\n",
    "\n",
    "# Element-wise addition\n",
    "d = np.array([1, 2, 3, 4])\n",
    "print(\"Add two arrays:\", c + d)"
   ]
  },
  {
   "cell_type": "code",
   "execution_count": 16,
   "id": "c3eb90bf-9d1b-4b00-a188-781d801386eb",
   "metadata": {},
   "outputs": [
    {
     "name": "stdout",
     "output_type": "stream",
     "text": [
      "Adding 2 to every value\n",
      " [[ 3  4  5]\n",
      " [ 6  7  8]\n",
      " [ 9 10 11]]\n",
      "Multiply the whole array by 3\n",
      " [[ 3  6  9]\n",
      " [12 15 18]\n",
      " [21 24 27]]\n",
      "Subtracting [1, 2, 3] from each row\n",
      " [[0 0 0]\n",
      " [3 3 3]\n",
      " [6 6 6]]\n"
     ]
    }
   ],
   "source": [
    "c = np.array([[1, 2, 3],\n",
    "              [4, 5, 6],\n",
    "              [7, 8, 9]])\n",
    "print(\"Adding 2 to every value\\n\", c + 2)\n",
    "print(\"Multiply the whole array by 3\\n\", c * 3)\n",
    "print(\"Subtracting [1, 2, 3] from each row\\n\", c - [1, 2, 3])"
   ]
  },
  {
   "cell_type": "code",
   "execution_count": 17,
   "id": "c576ac55-b252-40c9-af9a-dbbfcc4aaadf",
   "metadata": {},
   "outputs": [],
   "source": [
    "##Element-wise operation"
   ]
  },
  {
   "cell_type": "code",
   "execution_count": 18,
   "id": "d98d68e2-4b72-45fa-a2b4-321bb701edc7",
   "metadata": {},
   "outputs": [
    {
     "name": "stdout",
     "output_type": "stream",
     "text": [
      "Addition: [5 7 9]\n",
      "Subtraction: [-3 -3 -3]\n",
      "Multiplication: [ 4 10 18]\n",
      "Division: [4.  2.5 2. ]\n",
      "Exponentiation: [1 4 9]\n"
     ]
    }
   ],
   "source": [
    "a = np.array([1, 2, 3])\n",
    "b = np.array([4, 5, 6])\n",
    "\n",
    "print(\"Addition:\", a + b)\n",
    "print(\"Subtraction:\", a - b)\n",
    "print(\"Multiplication:\", a * b)\n",
    "print(\"Division:\", b / a)\n",
    "print(\"Exponentiation:\", a ** 2)"
   ]
  },
  {
   "cell_type": "code",
   "execution_count": 21,
   "id": "060f806a-5132-43f5-8d58-d0559edc6950",
   "metadata": {},
   "outputs": [
    {
     "name": "stdout",
     "output_type": "stream",
     "text": [
      "Add c and d\n",
      " [[ 6  8]\n",
      " [10 12]]\n",
      "Multiply c and d\n",
      " [[ 5 12]\n",
      " [21 32]]\n",
      "c divided by d\n",
      " [[0.2        0.33333333]\n",
      " [0.42857143 0.5       ]]\n"
     ]
    }
   ],
   "source": [
    "c = np.array([[1,2],\n",
    "              [3,4]])\n",
    "d = np.array([[5,6],\n",
    "              [7,8]])\n",
    "print(\"Add c and d\\n\", c + d)\n",
    "print(\"Multiply c and d\\n\", c * d)\n",
    "print(\"c divided by d\\n\", c/d)"
   ]
  },
  {
   "cell_type": "code",
   "execution_count": 1,
   "id": "027891ef-57da-412a-9e24-f5424386cfe4",
   "metadata": {},
   "outputs": [],
   "source": [
    "##Aggregation"
   ]
  },
  {
   "cell_type": "code",
   "execution_count": 3,
   "id": "27e54fc8-2569-4d42-9712-05c687c1fffd",
   "metadata": {},
   "outputs": [
    {
     "name": "stdout",
     "output_type": "stream",
     "text": [
      "Sum: 21\n",
      "Mean: 3.5\n",
      "Standard deviation: 1.707825127659933\n",
      "Min: 1\n",
      "Max: 6\n"
     ]
    }
   ],
   "source": [
    "import numpy as np\n",
    "arr = np.array([[1, 2, 3], [4, 5, 6]])\n",
    "\n",
    "print(\"Sum:\", arr.sum())\n",
    "print(\"Mean:\", arr.mean())\n",
    "print(\"Standard deviation:\", arr.std())\n",
    "print(\"Min:\", arr.min())\n",
    "print(\"Max:\", arr.max())"
   ]
  },
  {
   "cell_type": "code",
   "execution_count": 4,
   "id": "5ac46351-d02e-40df-bfbb-1c0d7994d7a3",
   "metadata": {},
   "outputs": [],
   "source": [
    "## Axis based computation"
   ]
  },
  {
   "cell_type": "code",
   "execution_count": 10,
   "id": "77b57526-4342-4554-ac75-386178de5a69",
   "metadata": {},
   "outputs": [
    {
     "name": "stdout",
     "output_type": "stream",
     "text": [
      "size (2, 3)\n",
      "Sum along columns: [5 7 9]\n",
      "Sum along rows: [ 6 15]\n"
     ]
    }
   ],
   "source": [
    "# axis=0 → column-wise, axis=1 → row-wise\n",
    "print(\"size\", arr.shape)\n",
    "print(\"Sum along columns:\", arr.sum(axis=0))\n",
    "print(\"Sum along rows:\", arr.sum(axis=1))"
   ]
  },
  {
   "cell_type": "code",
   "execution_count": 11,
   "id": "e3b9842a-7d64-4cd4-9c8c-4c7ed1b2eff8",
   "metadata": {},
   "outputs": [
    {
     "name": "stdout",
     "output_type": "stream",
     "text": [
      "shape (rows, columns) (3, 3)\n",
      "row wise means\n",
      " [2. 5. 8.]\n",
      "max in each column\n",
      " [7 8 9]\n",
      "standard deviation of the whole array 2.581988897471611\n"
     ]
    }
   ],
   "source": [
    "c = np.array([[1, 2, 3],\n",
    "              [4, 5, 6],\n",
    "              [7, 8, 9]])\n",
    "\n",
    "print(\"shape (rows, columns)\", c.shape)\n",
    "print(\"row wise means\\n\", c.mean(axis=1))\n",
    "print(\"max in each column\\n\", c.max(axis=0))\n",
    "print(\"standard deviation of the whole array\", c.std())"
   ]
  },
  {
   "cell_type": "code",
   "execution_count": null,
   "id": "d2456872-ef91-422d-8d08-3b8f77f1615a",
   "metadata": {},
   "outputs": [],
   "source": []
  },
  {
   "cell_type": "code",
   "execution_count": null,
   "id": "aca4b653-6de2-447e-affd-cddb423a112a",
   "metadata": {},
   "outputs": [],
   "source": [
    "## Array Creation Utilites in NumPy"
   ]
  },
  {
   "cell_type": "code",
   "execution_count": 12,
   "id": "db9f599c-de17-46e0-addb-dfac3c7c5b6b",
   "metadata": {},
   "outputs": [
    {
     "name": "stdout",
     "output_type": "stream",
     "text": [
      "Zeros:\n",
      " [[0. 0. 0.]\n",
      " [0. 0. 0.]]\n",
      "Ones:\n",
      " [[1. 1.]\n",
      " [1. 1.]\n",
      " [1. 1.]]\n"
     ]
    }
   ],
   "source": [
    "import numpy as np\n",
    "\n",
    "a = np.zeros((2, 3))\n",
    "b = np.ones((3, 2))\n",
    "\n",
    "print(\"Zeros:\\n\", a)\n",
    "print(\"Ones:\\n\", b)"
   ]
  },
  {
   "cell_type": "code",
   "execution_count": 14,
   "id": "6ba3b23d-3a15-4115-b022-c2a3821c75bc",
   "metadata": {},
   "outputs": [
    {
     "name": "stdout",
     "output_type": "stream",
     "text": [
      "4x4\n",
      " [[1. 1. 1. 1.]\n",
      " [1. 1. 1. 1.]\n",
      " [1. 1. 1. 1.]\n",
      " [1. 1. 1. 1.]]\n",
      "2x5\n",
      " [[0. 0. 0. 0. 0.]\n",
      " [0. 0. 0. 0. 0.]]\n"
     ]
    }
   ],
   "source": [
    "# 4 X 4 array of ones\n",
    "c4 = np.ones((4,4))\n",
    "\n",
    "# 2 X 5 array of zeros\n",
    "d = np.zeros((2,5))\n",
    "\n",
    "print(\"4x4\\n\", c4)\n",
    "print(\"2x5\\n\", d)"
   ]
  },
  {
   "cell_type": "code",
   "execution_count": null,
   "id": "09085b76-71da-47df-a1b9-d36e7068e7d4",
   "metadata": {},
   "outputs": [],
   "source": []
  },
  {
   "cell_type": "code",
   "execution_count": 15,
   "id": "9fdadf7f-d6a5-47ca-a893-0c3f606ae345",
   "metadata": {},
   "outputs": [
    {
     "name": "stdout",
     "output_type": "stream",
     "text": [
      "Full of 7s:\n",
      " [[7 7 7]\n",
      " [7 7 7]\n",
      " [7 7 7]]\n"
     ]
    }
   ],
   "source": [
    "c = np.full((3, 3), 7)\n",
    "print(\"Full of 7s:\\n\", c)"
   ]
  },
  {
   "cell_type": "code",
   "execution_count": 17,
   "id": "1ad27459-b976-4ff6-b2a6-37373985445d",
   "metadata": {},
   "outputs": [
    {
     "name": "stdout",
     "output_type": "stream",
     "text": [
      "array with -1\n",
      " [[-1 -1]\n",
      " [-1 -1]\n",
      " [-1 -1]]\n"
     ]
    }
   ],
   "source": [
    "# 3 X 2 filled with -1\n",
    "e = np.full((3,2), -1)\n",
    "print(\"array with -1\\n\", e)"
   ]
  },
  {
   "cell_type": "code",
   "execution_count": null,
   "id": "ce45632e-e1c6-4d81-a9fc-ba43be8d2d43",
   "metadata": {},
   "outputs": [],
   "source": []
  },
  {
   "cell_type": "code",
   "execution_count": 18,
   "id": "7411f86a-cb2c-40d4-834b-d34897face83",
   "metadata": {},
   "outputs": [
    {
     "name": "stdout",
     "output_type": "stream",
     "text": [
      "Identity Matrix:\n",
      " [[1. 0. 0. 0.]\n",
      " [0. 1. 0. 0.]\n",
      " [0. 0. 1. 0.]\n",
      " [0. 0. 0. 1.]]\n"
     ]
    }
   ],
   "source": [
    "d = np.eye(4)\n",
    "print(\"Identity Matrix:\\n\", d)"
   ]
  },
  {
   "cell_type": "code",
   "execution_count": null,
   "id": "0fdef50d-4637-4ac6-a1b8-8e6e498bc2a8",
   "metadata": {},
   "outputs": [],
   "source": []
  },
  {
   "cell_type": "code",
   "execution_count": 19,
   "id": "1a4a4239-173e-4a52-823c-5fa0ac51743e",
   "metadata": {},
   "outputs": [
    {
     "name": "stdout",
     "output_type": "stream",
     "text": [
      "Arange:\n",
      " [0 2 4 6 8]\n"
     ]
    }
   ],
   "source": [
    "e = np.arange(0, 10, 2)\n",
    "print(\"Arange:\\n\", e)"
   ]
  },
  {
   "cell_type": "code",
   "execution_count": 22,
   "id": "59268511-2aab-4db5-aa04-3e853161dc82",
   "metadata": {},
   "outputs": [
    {
     "name": "stdout",
     "output_type": "stream",
     "text": [
      "Even numbers [ 0  2  4  6  8 10 12 14 16 18 20]\n"
     ]
    }
   ],
   "source": [
    "f = np.arange(0, 21, 2) ## a range()\n",
    "print(\"Even numbers\", f)"
   ]
  },
  {
   "cell_type": "code",
   "execution_count": null,
   "id": "2828ecd3-fcbe-4270-a14e-27682b5b7ce3",
   "metadata": {},
   "outputs": [],
   "source": []
  },
  {
   "cell_type": "code",
   "execution_count": 24,
   "id": "255c536a-618b-4ddb-8b95-a0053b0d235f",
   "metadata": {},
   "outputs": [
    {
     "name": "stdout",
     "output_type": "stream",
     "text": [
      "Linspace:\n",
      " [0.   0.25 0.5  0.75 1.  ]\n"
     ]
    }
   ],
   "source": [
    "f = np.linspace(0, 1, 5) #inclusive of 0 and 1\n",
    "print(\"Linspace:\\n\", f)"
   ]
  },
  {
   "cell_type": "code",
   "execution_count": null,
   "id": "0b087ecf-a660-4bbb-8f16-31650ff44d7e",
   "metadata": {},
   "outputs": [],
   "source": []
  },
  {
   "cell_type": "code",
   "execution_count": 25,
   "id": "e8e2eb92-99e7-4e12-941c-e2b2d4575888",
   "metadata": {},
   "outputs": [
    {
     "name": "stdout",
     "output_type": "stream",
     "text": [
      "Random floats:\n",
      " [[0.49363408 0.89961225 0.08940227]\n",
      " [0.51834387 0.51257451 0.36317375]]\n",
      "Random ints:\n",
      " [[50 67 37]\n",
      " [35 66 51]\n",
      " [72 68 99]]\n"
     ]
    }
   ],
   "source": [
    "# Random floats in [0, 1)\n",
    "g = np.random.rand(2, 3)\n",
    "\n",
    "# Random integers from 10 to 99\n",
    "h = np.random.randint(10, 100, size=(3, 3))\n",
    "\n",
    "print(\"Random floats:\\n\", g)\n",
    "print(\"Random ints:\\n\", h)"
   ]
  },
  {
   "cell_type": "code",
   "execution_count": null,
   "id": "d2f49a1c-80b3-4669-97f6-190391673a59",
   "metadata": {},
   "outputs": [],
   "source": []
  },
  {
   "cell_type": "code",
   "execution_count": 27,
   "id": "96273f78-a373-41e4-8699-d3a9a4ce16e8",
   "metadata": {},
   "outputs": [
    {
     "name": "stdout",
     "output_type": "stream",
     "text": [
      "5by5 int matrix\n",
      " [[0 8 6 4 8]\n",
      " [0 6 4 1 3]\n",
      " [6 2 5 4 2]\n",
      " [7 4 1 3 6]\n",
      " [5 0 0 3 2]]\n",
      "1d array with floats\n",
      " [[0.64213171 0.9019087  0.07578265 0.96278832 0.21677992 0.98476452\n",
      "  0.72390087 0.95351166 0.28111889 0.02184832]]\n"
     ]
    }
   ],
   "source": [
    "#random matrix of size 5by5 with 0 to 9 range\n",
    "i = np.random.randint(0, 9, size = (5,5))\n",
    "\n",
    "print(\"5by5 int matrix\\n\", i)\n",
    "\n",
    "j = np.random.rand(1, 10)\n",
    "print(\"1d array with floats\\n\", j)"
   ]
  }
 ],
 "metadata": {
  "kernelspec": {
   "display_name": "Python 3 (ipykernel)",
   "language": "python",
   "name": "python3"
  },
  "language_info": {
   "codemirror_mode": {
    "name": "ipython",
    "version": 3
   },
   "file_extension": ".py",
   "mimetype": "text/x-python",
   "name": "python",
   "nbconvert_exporter": "python",
   "pygments_lexer": "ipython3",
   "version": "3.12.7"
  }
 },
 "nbformat": 4,
 "nbformat_minor": 5
}
