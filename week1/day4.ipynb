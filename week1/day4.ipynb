{
 "cells": [
  {
   "cell_type": "code",
   "execution_count": 1,
   "id": "99bc5f1b-cc1a-457d-9f1b-b4f24905aa9e",
   "metadata": {},
   "outputs": [
    {
     "name": "stdout",
     "output_type": "stream",
     "text": [
      "  Student  Age  Score  Passed\n",
      "0  Ayesha   22     88    True\n",
      "1   Bilal   24     75   False\n",
      "2    Chin   23     90    True\n",
      "3   Deepa   21     85    True\n"
     ]
    }
   ],
   "source": [
    "import pandas as pd\n",
    "\n",
    "data = {\n",
    "    \"Student\": [\"Ayesha\", \"Bilal\", \"Chin\", \"Deepa\"],\n",
    "    \"Age\": [22, 24, 23, 21],\n",
    "    \"Score\": [88, 75, 90, 85],\n",
    "    \"Passed\": [True, False, True, True]\n",
    "}\n",
    "df = pd.DataFrame(data)\n",
    "print(df)"
   ]
  },
  {
   "cell_type": "code",
   "execution_count": 2,
   "id": "348e5aa1-32c9-4255-a4a0-0a461a67976f",
   "metadata": {},
   "outputs": [
    {
     "name": "stdout",
     "output_type": "stream",
     "text": [
      "  Student  Age  Score  Passed\n",
      "0  Ayesha   22     88    True\n",
      "1   Bilal   24     75   False\n",
      "2    Chin   23     90    True\n",
      "3   Deepa   21     85    True\n",
      "4   Eshan   25     78   False\n"
     ]
    }
   ],
   "source": [
    "df.loc[len(df)] = [\"Eshan\", 25, 78, False]\n",
    "print(df)"
   ]
  },
  {
   "cell_type": "code",
   "execution_count": 3,
   "id": "32859280-2822-4d8d-861d-b6ced0aa1a0a",
   "metadata": {},
   "outputs": [],
   "source": [
    "df[\"Score boosted\"] = df[\"Score\"] + 10"
   ]
  },
  {
   "cell_type": "code",
   "execution_count": 4,
   "id": "30688bbc-4e1b-441e-b629-1ccfcbc42d74",
   "metadata": {},
   "outputs": [
    {
     "name": "stdout",
     "output_type": "stream",
     "text": [
      "  Student  Age  Score  Passed  Score boosted\n",
      "0  Ayesha   22     88    True             98\n",
      "1   Bilal   24     75   False             85\n",
      "2    Chin   23     90    True            100\n",
      "3   Deepa   21     85    True             95\n",
      "4   Eshan   25     78   False             88\n"
     ]
    }
   ],
   "source": [
    "print(df)"
   ]
  },
  {
   "cell_type": "code",
   "execution_count": 5,
   "id": "5ad5555f-e033-4d47-92ef-1782750639e6",
   "metadata": {},
   "outputs": [
    {
     "name": "stdout",
     "output_type": "stream",
     "text": [
      "  Student  Age  Score  Passed\n",
      "0  Ayesha   22     88    True\n",
      "1   Bilal   24     75   False\n",
      "2    Chin   23     90    True\n",
      "3   Deepa   21     85    True\n",
      "4   Eshan   25     78   False\n"
     ]
    }
   ],
   "source": [
    "#drop column\n",
    "df.drop([\"Score boosted\"], axis = 1) #returns a new df\n",
    "df.drop([\"Score boosted\"], axis = 1, inplace = True) #modifies the existing datframe\n",
    "print(df)"
   ]
  },
  {
   "cell_type": "code",
   "execution_count": 6,
   "id": "ff2c9b7f-c01b-4797-8428-0bbed4e9f893",
   "metadata": {},
   "outputs": [
    {
     "data": {
      "text/html": [
       "<div>\n",
       "<style scoped>\n",
       "    .dataframe tbody tr th:only-of-type {\n",
       "        vertical-align: middle;\n",
       "    }\n",
       "\n",
       "    .dataframe tbody tr th {\n",
       "        vertical-align: top;\n",
       "    }\n",
       "\n",
       "    .dataframe thead th {\n",
       "        text-align: right;\n",
       "    }\n",
       "</style>\n",
       "<table border=\"1\" class=\"dataframe\">\n",
       "  <thead>\n",
       "    <tr style=\"text-align: right;\">\n",
       "      <th></th>\n",
       "      <th>Student</th>\n",
       "      <th>Passed</th>\n",
       "    </tr>\n",
       "  </thead>\n",
       "  <tbody>\n",
       "    <tr>\n",
       "      <th>0</th>\n",
       "      <td>Ayesha</td>\n",
       "      <td>True</td>\n",
       "    </tr>\n",
       "    <tr>\n",
       "      <th>1</th>\n",
       "      <td>Bilal</td>\n",
       "      <td>False</td>\n",
       "    </tr>\n",
       "    <tr>\n",
       "      <th>2</th>\n",
       "      <td>Chin</td>\n",
       "      <td>True</td>\n",
       "    </tr>\n",
       "    <tr>\n",
       "      <th>3</th>\n",
       "      <td>Deepa</td>\n",
       "      <td>True</td>\n",
       "    </tr>\n",
       "    <tr>\n",
       "      <th>4</th>\n",
       "      <td>Eshan</td>\n",
       "      <td>False</td>\n",
       "    </tr>\n",
       "  </tbody>\n",
       "</table>\n",
       "</div>"
      ],
      "text/plain": [
       "  Student  Passed\n",
       "0  Ayesha    True\n",
       "1   Bilal   False\n",
       "2    Chin    True\n",
       "3   Deepa    True\n",
       "4   Eshan   False"
      ]
     },
     "execution_count": 6,
     "metadata": {},
     "output_type": "execute_result"
    }
   ],
   "source": [
    "# remove multiple columns\n",
    "df.drop([\"Age\",\"Score\"], axis = 1)"
   ]
  },
  {
   "cell_type": "code",
   "execution_count": 7,
   "id": "b44dcae7-0a79-4522-a5e4-2655b5989aa8",
   "metadata": {},
   "outputs": [
    {
     "data": {
      "text/html": [
       "<div>\n",
       "<style scoped>\n",
       "    .dataframe tbody tr th:only-of-type {\n",
       "        vertical-align: middle;\n",
       "    }\n",
       "\n",
       "    .dataframe tbody tr th {\n",
       "        vertical-align: top;\n",
       "    }\n",
       "\n",
       "    .dataframe thead th {\n",
       "        text-align: right;\n",
       "    }\n",
       "</style>\n",
       "<table border=\"1\" class=\"dataframe\">\n",
       "  <thead>\n",
       "    <tr style=\"text-align: right;\">\n",
       "      <th></th>\n",
       "      <th>Student</th>\n",
       "      <th>Age</th>\n",
       "      <th>Score</th>\n",
       "      <th>Passed</th>\n",
       "    </tr>\n",
       "  </thead>\n",
       "  <tbody>\n",
       "    <tr>\n",
       "      <th>1</th>\n",
       "      <td>Bilal</td>\n",
       "      <td>24</td>\n",
       "      <td>75</td>\n",
       "      <td>False</td>\n",
       "    </tr>\n",
       "    <tr>\n",
       "      <th>2</th>\n",
       "      <td>Chin</td>\n",
       "      <td>23</td>\n",
       "      <td>90</td>\n",
       "      <td>True</td>\n",
       "    </tr>\n",
       "    <tr>\n",
       "      <th>3</th>\n",
       "      <td>Deepa</td>\n",
       "      <td>21</td>\n",
       "      <td>85</td>\n",
       "      <td>True</td>\n",
       "    </tr>\n",
       "    <tr>\n",
       "      <th>4</th>\n",
       "      <td>Eshan</td>\n",
       "      <td>25</td>\n",
       "      <td>78</td>\n",
       "      <td>False</td>\n",
       "    </tr>\n",
       "  </tbody>\n",
       "</table>\n",
       "</div>"
      ],
      "text/plain": [
       "  Student  Age  Score  Passed\n",
       "1   Bilal   24     75   False\n",
       "2    Chin   23     90    True\n",
       "3   Deepa   21     85    True\n",
       "4   Eshan   25     78   False"
      ]
     },
     "execution_count": 7,
     "metadata": {},
     "output_type": "execute_result"
    }
   ],
   "source": [
    "#remove row\n",
    "df.drop([0])"
   ]
  },
  {
   "cell_type": "code",
   "execution_count": 8,
   "id": "3628d2fa-8748-4a44-9bd7-99f032566ce8",
   "metadata": {},
   "outputs": [
    {
     "data": {
      "text/html": [
       "<div>\n",
       "<style scoped>\n",
       "    .dataframe tbody tr th:only-of-type {\n",
       "        vertical-align: middle;\n",
       "    }\n",
       "\n",
       "    .dataframe tbody tr th {\n",
       "        vertical-align: top;\n",
       "    }\n",
       "\n",
       "    .dataframe thead th {\n",
       "        text-align: right;\n",
       "    }\n",
       "</style>\n",
       "<table border=\"1\" class=\"dataframe\">\n",
       "  <thead>\n",
       "    <tr style=\"text-align: right;\">\n",
       "      <th></th>\n",
       "      <th>Student</th>\n",
       "      <th>Age</th>\n",
       "      <th>Score</th>\n",
       "      <th>Passed</th>\n",
       "    </tr>\n",
       "  </thead>\n",
       "  <tbody>\n",
       "    <tr>\n",
       "      <th>0</th>\n",
       "      <td>Ayesha</td>\n",
       "      <td>22</td>\n",
       "      <td>88</td>\n",
       "      <td>True</td>\n",
       "    </tr>\n",
       "    <tr>\n",
       "      <th>1</th>\n",
       "      <td>Bilal</td>\n",
       "      <td>24</td>\n",
       "      <td>75</td>\n",
       "      <td>False</td>\n",
       "    </tr>\n",
       "    <tr>\n",
       "      <th>3</th>\n",
       "      <td>Deepa</td>\n",
       "      <td>21</td>\n",
       "      <td>85</td>\n",
       "      <td>True</td>\n",
       "    </tr>\n",
       "  </tbody>\n",
       "</table>\n",
       "</div>"
      ],
      "text/plain": [
       "  Student  Age  Score  Passed\n",
       "0  Ayesha   22     88    True\n",
       "1   Bilal   24     75   False\n",
       "3   Deepa   21     85    True"
      ]
     },
     "execution_count": 8,
     "metadata": {},
     "output_type": "execute_result"
    }
   ],
   "source": [
    "df.drop([2,4])"
   ]
  },
  {
   "cell_type": "code",
   "execution_count": 13,
   "id": "b9e08773-bd2b-4c8f-a2ae-4a82883e9076",
   "metadata": {},
   "outputs": [
    {
     "data": {
      "text/html": [
       "<div>\n",
       "<style scoped>\n",
       "    .dataframe tbody tr th:only-of-type {\n",
       "        vertical-align: middle;\n",
       "    }\n",
       "\n",
       "    .dataframe tbody tr th {\n",
       "        vertical-align: top;\n",
       "    }\n",
       "\n",
       "    .dataframe thead th {\n",
       "        text-align: right;\n",
       "    }\n",
       "</style>\n",
       "<table border=\"1\" class=\"dataframe\">\n",
       "  <thead>\n",
       "    <tr style=\"text-align: right;\">\n",
       "      <th></th>\n",
       "      <th>Student</th>\n",
       "      <th>Age</th>\n",
       "      <th>Score</th>\n",
       "      <th>Passed</th>\n",
       "    </tr>\n",
       "  </thead>\n",
       "  <tbody>\n",
       "    <tr>\n",
       "      <th>0</th>\n",
       "      <td>Ayesha</td>\n",
       "      <td>22</td>\n",
       "      <td>88</td>\n",
       "      <td>True</td>\n",
       "    </tr>\n",
       "    <tr>\n",
       "      <th>1</th>\n",
       "      <td>Bilal</td>\n",
       "      <td>24</td>\n",
       "      <td>75</td>\n",
       "      <td>False</td>\n",
       "    </tr>\n",
       "    <tr>\n",
       "      <th>3</th>\n",
       "      <td>Deepa</td>\n",
       "      <td>21</td>\n",
       "      <td>85</td>\n",
       "      <td>True</td>\n",
       "    </tr>\n",
       "    <tr>\n",
       "      <th>4</th>\n",
       "      <td>Eshan</td>\n",
       "      <td>25</td>\n",
       "      <td>78</td>\n",
       "      <td>False</td>\n",
       "    </tr>\n",
       "  </tbody>\n",
       "</table>\n",
       "</div>"
      ],
      "text/plain": [
       "  Student  Age  Score  Passed\n",
       "0  Ayesha   22     88    True\n",
       "1   Bilal   24     75   False\n",
       "3   Deepa   21     85    True\n",
       "4   Eshan   25     78   False"
      ]
     },
     "execution_count": 13,
     "metadata": {},
     "output_type": "execute_result"
    }
   ],
   "source": [
    "df.drop(df.index[ df[\"Student\"] == \"Chin\"])"
   ]
  },
  {
   "cell_type": "code",
   "execution_count": null,
   "id": "09f8c5ea-a899-4fb7-9ab1-08b9451a9516",
   "metadata": {},
   "outputs": [],
   "source": []
  },
  {
   "cell_type": "code",
   "execution_count": 14,
   "id": "724143b7-9128-4bcf-b107-8817f871676d",
   "metadata": {},
   "outputs": [],
   "source": [
    "##Challenge"
   ]
  },
  {
   "cell_type": "code",
   "execution_count": 34,
   "id": "f98f1a5f-2287-4f45-88fc-d482fd2f1b82",
   "metadata": {},
   "outputs": [
    {
     "name": "stdout",
     "output_type": "stream",
     "text": [
      "     Name  Score  Age  Passed   Award\n",
      "0    Chin     92   23    True    Gold\n",
      "1  Ayesha     88   22    True  Silver\n",
      "2   Eshan     85   25    True  Silver\n",
      "3   Deepa     67   21   False    None\n"
     ]
    }
   ],
   "source": [
    "import pandas as pd\n",
    "\n",
    "\n",
    "data = {\n",
    "    \"Name\": [\"Ayesha\", \"Bilal\", \"Chin\", \"Deepa\"],\n",
    "    \"Score\" : [88, 76, 92, 67],\n",
    "    \"Age\" : [22, 24, 23, 21]\n",
    "}\n",
    "\n",
    "#creating the dataframe\n",
    "df = pd.DataFrame(data)\n",
    "\n",
    "# create a passed column such that it's true for score greater or equal to 80\n",
    "df[\"Passed\"] = df[\"Score\"] >= 80\n",
    "\n",
    "# add a new row\n",
    "df.loc[len(df)] = [\"Eshan\", 85, 25, True]\n",
    "\n",
    "# remove student named Bilal\n",
    "df.drop(df.index[df[\"Name\"] == \"Bilal\"], inplace = True)\n",
    "\n",
    "# function that awards\n",
    "def Awards(score):\n",
    "    if score >= 90:\n",
    "        return \"Gold\"\n",
    "    elif score >= 80:\n",
    "        return \"Silver\"\n",
    "    else:\n",
    "        return \"None\"\n",
    "\n",
    "df[\"Award\"] = df[\"Score\"].apply(Awards)\n",
    "\n",
    "df.sort_values(\"Score\", ascending = False, inplace = True)\n",
    "\n",
    "df.reset_index(drop=True, inplace = True)\n",
    "\n",
    "print(df)"
   ]
  }
 ],
 "metadata": {
  "kernelspec": {
   "display_name": "Python 3 (ipykernel)",
   "language": "python",
   "name": "python3"
  },
  "language_info": {
   "codemirror_mode": {
    "name": "ipython",
    "version": 3
   },
   "file_extension": ".py",
   "mimetype": "text/x-python",
   "name": "python",
   "nbconvert_exporter": "python",
   "pygments_lexer": "ipython3",
   "version": "3.12.7"
  }
 },
 "nbformat": 4,
 "nbformat_minor": 5
}
